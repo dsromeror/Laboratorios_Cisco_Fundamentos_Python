{
 "cells": [
  {
   "cell_type": "markdown",
   "metadata": {},
   "source": [
    " 3.1.1.12 LABORATORIO: Lo fundamental de la instrucción if-else"
   ]
  },
  {
   "cell_type": "markdown",
   "metadata": {},
   "source": [
    "Tiempo estimado\n",
    "\n",
    "10-15 minutos\n",
    "Nivel de dificultad\n",
    "\n",
    "Fácil/Medio\n",
    "Objetivos\n",
    "\n",
    "Familiarizar al estudiante con:\n",
    "\n",
    "    Utilizar la instrucción if-else para ramificar la ruta de control.\n",
    "    Construir un programa completo que resuelva problemas simples de la vida real.\n",
    "\n",
    "Escenario\n",
    "\n",
    "Érase una vez una tierra - una tierra de leche y miel, habitada por gente feliz y próspera. La gente pagaba impuestos, por supuesto, su felicidad tenía límites. El impuesto más importante, denominado Impuesto Personal de Ingresos (IPI, para abreviar) tenía que pagarse una vez al año y se evaluó utilizando la siguiente regla:\n",
    "\n",
    "    Si el ingreso del ciudadano no era superior a 85,528 pesos, el impuesto era igual al 18% del ingreso menos 556 pesos y 2 centavos (esta fue la llamada exención fiscal ).\n",
    "    Si el ingreso era superior a esta cantidad, el impuesto era igual a 14,839 pesos y 2 centavos, más el 32% del excedente sobre 85,528 pesos.\n",
    "\n",
    "Tu tarea es escribir una calculadora de impuestos.\n",
    "\n",
    "    Debe aceptar un valor de punto flotante: el ingreso.\n",
    "    A continuación, debe imprimir el impuesto calculado, redondeado a pesos totales. Hay una función llamada round() que hará el redondeo por ti, la encontrarás en el código de esqueleto del editor.\n",
    "\n",
    "Nota: Este país feliz nunca devuelve dinero a sus ciudadanos. Si el impuesto calculado es menor que cero, solo significa que no hay impuesto (el impuesto es igual a cero). Ten esto en cuenta durante tus cálculos.\n",
    "\n",
    "Observa el código en el editor: solo lee un valor de entrada y genera un resultado, por lo que debes completarlo con algunos cálculos inteligentes.\n",
    "\n",
    "Prueba tu código con los datos que hemos proporcionado.\n",
    "Datos de prueba\n",
    "\n",
    "Entrada de muestra: 10000\n",
    "\n",
    "Resultado esperado: El impuesto es: 1244.0 pesos\n",
    "\n",
    "Entrada de muestra: 100000\n",
    "\n",
    "Resultado esperado: El impuesto es: 19470.0 pesos\n",
    "\n",
    "Entrada de muestra: 1000\n",
    "\n",
    "Resultado esperado: El impuesto es: 0.0 pesos\n",
    "\n",
    "Entrada de muestra: -100\n",
    "\n",
    "Resultado esperado: El impuesto es: 0.0 pesos "
   ]
  },
  {
   "cell_type": "code",
   "execution_count": 1,
   "metadata": {},
   "outputs": [],
   "source": [
    "def IPI(ingreso):\n",
    "    impuesto = 0\n",
    "    if ingreso<85528:\n",
    "        impuesto = ((18 * ingreso)/100) - 556.2\n",
    "    else:\n",
    "        impuesto = 14839.2+(0.32*(ingreso-85528))\n",
    "        \n",
    "    if impuesto <=0:\n",
    "        print(\"El impuesto es: 0.0 pesos\")\n",
    "    else:\n",
    "        print(\"El impuesto es: \"+str(round(impuesto))+\".0 pesos\")\n",
    "        "
   ]
  },
  {
   "cell_type": "code",
   "execution_count": 2,
   "metadata": {},
   "outputs": [
    {
     "name": "stdout",
     "output_type": "stream",
     "text": [
      "Ingrese un valor: 10000\n",
      "El impuesto es: 1244.0 pesos\n"
     ]
    }
   ],
   "source": [
    "ingreso = float(input(\"Ingrese un valor: \"))\n",
    "IPI(ingreso)"
   ]
  },
  {
   "cell_type": "code",
   "execution_count": 3,
   "metadata": {},
   "outputs": [
    {
     "name": "stdout",
     "output_type": "stream",
     "text": [
      "Ingrese un valor: 100000\n",
      "El impuesto es: 19470.0 pesos\n"
     ]
    }
   ],
   "source": [
    "ingreso = float(input(\"Ingrese un valor: \"))\n",
    "IPI(ingreso)"
   ]
  },
  {
   "cell_type": "code",
   "execution_count": 4,
   "metadata": {},
   "outputs": [
    {
     "name": "stdout",
     "output_type": "stream",
     "text": [
      "Ingrese un valor: 1000\n",
      "El impuesto es: 0.0 pesos\n"
     ]
    }
   ],
   "source": [
    "ingreso = float(input(\"Ingrese un valor: \"))\n",
    "IPI(ingreso)"
   ]
  },
  {
   "cell_type": "code",
   "execution_count": 5,
   "metadata": {},
   "outputs": [
    {
     "name": "stdout",
     "output_type": "stream",
     "text": [
      "Ingrese un valor: -100\n",
      "El impuesto es: 0.0 pesos\n"
     ]
    }
   ],
   "source": [
    "ingreso = float(input(\"Ingrese un valor: \"))\n",
    "IPI(ingreso)"
   ]
  }
 ],
 "metadata": {
  "kernelspec": {
   "display_name": "Python 3",
   "language": "python",
   "name": "python3"
  },
  "language_info": {
   "codemirror_mode": {
    "name": "ipython",
    "version": 3
   },
   "file_extension": ".py",
   "mimetype": "text/x-python",
   "name": "python",
   "nbconvert_exporter": "python",
   "pygments_lexer": "ipython3",
   "version": "3.8.3"
  }
 },
 "nbformat": 4,
 "nbformat_minor": 4
}
