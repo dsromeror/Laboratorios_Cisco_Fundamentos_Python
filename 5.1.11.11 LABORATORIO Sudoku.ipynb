{
 "cells": [
  {
   "cell_type": "markdown",
   "metadata": {},
   "source": [
    "5.1.11.11 LABORATORIO: Sudoku"
   ]
  },
  {
   "cell_type": "markdown",
   "metadata": {},
   "source": [
    "Tiempo Estimado\n",
    "\n",
    "60 minutos\n",
    "\n",
    "Nivel de Dificultad\n",
    "\n",
    "Difícil\n",
    "\n",
    "Objetivos\n",
    "\n",
    "    Mejorar las habilidades del estudiante para trabajar con cadenas y listas.\n",
    "    Convertir cadenas en listas.\n",
    "\n",
    "Escenario\n",
    "\n",
    "Como probablemente sabes, Sudoku es un rompecabezas de colocación de números jugado en un tablero de 9x9. El jugador tiene que llenar el tablero de una manera muy específica:\n",
    "\n",
    "    Cada fila del tablero debe contener todos los dígitos del 0 al 9 (el orden no importa).\n",
    "    Cada columna del tablero debe contener todos los dígitos del 0 al 9 (nuevamente, el orden no importa).\n",
    "    Cada subcuadro de 3x3 de la tabla debe contener todos los dígitos del 0 al 9.\n",
    "\n",
    "Si necesitas más detalles, puedes encontrarlos aquí.\n",
    "\n",
    "Tu tarea es escribir un programa que:\n",
    "\n",
    "    Lea las 9 filas del Sudoku, cada una con 9 dígitos (verifica cuidadosamente si los datos ingresados son válidos).\n",
    "    Da como salida Si si el Sudoku es válido y No de lo contrario.\n",
    "\n",
    "Prueba tu código utilizando los datos que te proporcionamos.\n",
    "Datos de Prueba\n",
    "\n",
    "Entrada de Muestra:\n",
    "\n",
    "295743861\n",
    "431865927\n",
    "876192543\n",
    "387459216\n",
    "612387495\n",
    "549216738\n",
    "763524189\n",
    "928671354\n",
    "154938672\n",
    "\n",
    "Salida de la Muestra:\n",
    "Yes\n",
    "\n",
    "Entrada de Muestra:\n",
    "\n",
    "195743862\n",
    "431865927\n",
    "876192543\n",
    "387459216\n",
    "612387495\n",
    "549216738\n",
    "763524189\n",
    "928671354\n",
    "254938671\n",
    "\n",
    "Salida de la Muestra\n",
    "No\n"
   ]
  },
  {
   "cell_type": "code",
   "execution_count": 12,
   "metadata": {},
   "outputs": [],
   "source": [
    "def sudoku(entrada):\n",
    "    entradaN = []\n",
    "    filas = list(entrada.split(' '))\n",
    "    for f in filas:\n",
    "        entradaN.append(f)\n",
    "        print(f)\n",
    "        \n",
    "    print(entradaN)\n",
    "        "
   ]
  },
  {
   "cell_type": "code",
   "execution_count": 17,
   "metadata": {},
   "outputs": [],
   "source": [
    "def done_or_not(board):\n",
    "    \n",
    "    entradaN = []\n",
    "    filas = list(entrada.split(' '))\n",
    "    for f in filas:\n",
    "        entradaN.append(f)\n",
    "        print(f)\n",
    "        \n",
    "    print(entradaN)\n",
    "\n",
    "    square = [board[i][j:j + 3] + board[i + 1][j:j + 3] + board[i + 2][j:j + 3]\n",
    "          for i in range(0, 9, 3)\n",
    "\n",
    "          for j in range(0, 9, 3)]\n",
    "\n",
    "\n",
    "    for i in range(9):\n",
    "\n",
    "        col=[board[j][i] for j in range(9)]\n",
    "\n",
    "        if list(set(board[i]))!=sorted(board[i]) or list(set(col))!=sorted(col) or list(set(square[i]))!=sorted(square[i]):\n",
    "\n",
    "            return \"Try again!\"\n",
    "\n",
    "    return \"Finished!\""
   ]
  },
  {
   "cell_type": "code",
   "execution_count": null,
   "metadata": {},
   "outputs": [],
   "source": []
  },
  {
   "cell_type": "code",
   "execution_count": null,
   "metadata": {},
   "outputs": [],
   "source": []
  },
  {
   "cell_type": "code",
   "execution_count": 13,
   "metadata": {},
   "outputs": [
    {
     "name": "stdout",
     "output_type": "stream",
     "text": [
      "Ingrese los datos: 295743861 431865927 876192543 387459216 612387495 549216738 763524189 928671354 154938672\n",
      "295743861\n",
      "431865927\n",
      "876192543\n",
      "387459216\n",
      "612387495\n",
      "549216738\n",
      "763524189\n",
      "928671354\n",
      "154938672\n",
      "['295743861', '431865927', '876192543', '387459216', '612387495', '549216738', '763524189', '928671354', '154938672']\n"
     ]
    }
   ],
   "source": [
    "entrada = input(\"Ingrese los datos: \")\n",
    "sudoku(entrada)"
   ]
  },
  {
   "cell_type": "code",
   "execution_count": 18,
   "metadata": {},
   "outputs": [
    {
     "name": "stdout",
     "output_type": "stream",
     "text": [
      "Ingrese los datos: 295743861 431865927 876192543 387459216 612387495 549216738 763524189 928671354 154938672\n",
      "295743861\n",
      "431865927\n",
      "876192543\n",
      "387459216\n",
      "612387495\n",
      "549216738\n",
      "763524189\n",
      "928671354\n",
      "154938672\n",
      "['295743861', '431865927', '876192543', '387459216', '612387495', '549216738', '763524189', '928671354', '154938672']\n"
     ]
    },
    {
     "data": {
      "text/plain": [
       "'Try again!'"
      ]
     },
     "execution_count": 18,
     "metadata": {},
     "output_type": "execute_result"
    }
   ],
   "source": [
    "entrada = input(\"Ingrese los datos: \")\n",
    "done_or_not(entrada)"
   ]
  }
 ],
 "metadata": {
  "kernelspec": {
   "display_name": "Python 3",
   "language": "python",
   "name": "python3"
  },
  "language_info": {
   "codemirror_mode": {
    "name": "ipython",
    "version": 3
   },
   "file_extension": ".py",
   "mimetype": "text/x-python",
   "name": "python",
   "nbconvert_exporter": "python",
   "pygments_lexer": "ipython3",
   "version": "3.8.3"
  }
 },
 "nbformat": 4,
 "nbformat_minor": 4
}
