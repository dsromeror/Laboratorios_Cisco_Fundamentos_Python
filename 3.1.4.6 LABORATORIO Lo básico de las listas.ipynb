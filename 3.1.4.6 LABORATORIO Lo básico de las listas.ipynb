{
 "cells": [
  {
   "cell_type": "markdown",
   "metadata": {},
   "source": [
    "3.1.4.6 LABORATORIO: Lo básico de las listas"
   ]
  },
  {
   "cell_type": "markdown",
   "metadata": {},
   "source": [
    " Tiempo estimado\n",
    "\n",
    "5 minutos\n",
    "\n",
    "Nivel de dificultad\n",
    "\n",
    "Muy fácil\n",
    "\n",
    "Objetivos\n",
    "\n",
    "Familiarizar al estudiante con:\n",
    "\n",
    "    Usar instrucciones básicas relacionadas con listas.\n",
    "    Crear y modificar listas.\n",
    "\n",
    "Escenario\n",
    "\n",
    "Había una vez un sombrero. El sombrero no contenía conejo, sino una lista de cinco números: 1, 2, 3, 4 y 5.\n",
    "\n",
    "Tu tarea es:\n",
    "\n",
    "    Escribir una línea de código que solicite al usuario que reemplace el número central en la lista con un número entero ingresado por el usuario (paso 1).\n",
    "    Escribir una línea de código que elimine el último elemento de la lista (paso 2).\n",
    "    Escribir una línea de código que imprima la longitud de la lista existente (paso 3).\n",
    "\n",
    "¿Listo para este desafío? "
   ]
  },
  {
   "cell_type": "code",
   "execution_count": 1,
   "metadata": {},
   "outputs": [
    {
     "name": "stdout",
     "output_type": "stream",
     "text": [
      "Digite un número: 8\n",
      "4\n",
      "[1, 2, 8, 4]\n"
     ]
    }
   ],
   "source": [
    "listaSombrero = [1, 2, 3, 4, 5] # Esta es una lista existente de números ocultos en el sombrero.\n",
    "\n",
    "# Paso 1: escribe una línea de código que solicite al usuario\n",
    "# para reemplazar el número de en medio con un número entero ingresado por el usuario.\n",
    "\n",
    "listaSombrero[2] = int(input(\"Digite un número: \"))\n",
    "\n",
    "# Paso 2: escribe aquí una línea de código que elimine el último elemento de la lista.\n",
    "del listaSombrero[-1]\n",
    "\n",
    "# Paso 3: escribe aquí una línea de código que imprima la longitud de la lista existente.\n",
    "print(len(listaSombrero))\n",
    "print(listaSombrero)"
   ]
  },
  {
   "cell_type": "code",
   "execution_count": null,
   "metadata": {},
   "outputs": [],
   "source": []
  }
 ],
 "metadata": {
  "kernelspec": {
   "display_name": "Python 3",
   "language": "python",
   "name": "python3"
  },
  "language_info": {
   "codemirror_mode": {
    "name": "ipython",
    "version": 3
   },
   "file_extension": ".py",
   "mimetype": "text/x-python",
   "name": "python",
   "nbconvert_exporter": "python",
   "pygments_lexer": "ipython3",
   "version": "3.8.3"
  }
 },
 "nbformat": 4,
 "nbformat_minor": 4
}
