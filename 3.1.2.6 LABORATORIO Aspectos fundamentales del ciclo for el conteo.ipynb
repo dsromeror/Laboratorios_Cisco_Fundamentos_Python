{
 "cells": [
  {
   "cell_type": "markdown",
   "metadata": {},
   "source": [
    " 3.1.2.6 LABORATORIO: Aspectos fundamentales del ciclo for: el conteo"
   ]
  },
  {
   "cell_type": "markdown",
   "metadata": {},
   "source": [
    " Tiempo estimado\n",
    "\n",
    "5 minutos\n",
    "\n",
    "Nivel de dificultad\n",
    "\n",
    "Muy fácil\n",
    "\n",
    "Objetivos\n",
    "\n",
    "Familiarizar al estudiante con:\n",
    "\n",
    "    Utilizar el ciclo for.\n",
    "    Reflejar situaciones de la vida real en código de computadora.\n",
    "\n",
    "Escenario\n",
    "\n",
    "¿Sabes lo que es Mississippi? Bueno, es el nombre de uno de los estados y ríos en los Estados Unidos. El río Mississippi tiene aproximadamente 2,340 millas de largo, lo que lo convierte en el segundo río más largo de los Estados Unidos (el más largo es el río Missouri). ¡Es tan largo que una sola gota de agua necesita 90 días para recorrer toda su longitud!\n",
    "\n",
    "La palabra Mississippi también se usa para un propósito ligeramente diferente: para contar mississippily (mississippimente).\n",
    "\n",
    "Si no estás familiarizado con la frase, estamos aquí para explicarte lo que significa: se utiliza para contar segundos.\n",
    "\n",
    "La idea detrás de esto es que agregar la palabra Mississippi a un número al contar los segundos en voz alta hace que suene más cercano al reloj, y por lo tanto \"un Mississippi, dos Mississippi, tres Mississippi\" tomará aproximadamente unos tres segundos reales de tiempo. A menudo lo usan los niños que juegan al escondite para asegurarse de que el buscador haga un conteo honesto.\n",
    "\n",
    "Tu tarea es muy simple aquí: escribe un programa que use un ciclo for para \"contar de forma mississippi\" hasta cinco. Habiendo contado hasta cinco, el programa debería imprimir en la pantalla el mensaje final \"¡Listo o no, ahí voy!\"\n",
    "\n",
    "Utiliza el esqueleto que hemos proporcionado en el editor.\n",
    "\n",
    "INFO EXTRA\n",
    "\n",
    "Ten en cuenta que el código en el editor contiene dos elementos que pueden no ser del todo claros en este momento: la declaración import time y el método sleep(). Vamos a hablar de ellos pronto.\n",
    "\n",
    "Por el momento, nos gustaría que supieras que hemos importado el módulo time y hemos utilizado el método sleep() para suspender la ejecución de cada función posterior de print() dentro del ciclo for durante un segundo, de modo que el mensaje enviado a la consola se parezca a un conteo real. No te preocupes, pronto aprenderás más sobre módulos y métodos.\n",
    "Salida esperada\n",
    "1 Mississippi\n",
    "2 Mississippi\n",
    "3 Mississippi\n",
    "4 Mississippi\n",
    "5 Mississippi "
   ]
  },
  {
   "cell_type": "code",
   "execution_count": 1,
   "metadata": {},
   "outputs": [
    {
     "name": "stdout",
     "output_type": "stream",
     "text": [
      "1 Mississippi 2 Mississippi 3 Mississippi 4 Mississippi 5 Mississippi ¡Listo o no, ahí voy!\n"
     ]
    }
   ],
   "source": [
    "import time\n",
    "\n",
    "for i in range(1,6):\n",
    "    print(str(i)+\" Mississippi\",end=' ')\n",
    "    time.sleep(1)\n",
    "    \n",
    "print(\"¡Listo o no, ahí voy!\")\n",
    "\n",
    "    # Escribe un ciclo for que cuente hasta cinco.\n",
    "    # Cuerpo del ciclo: imprime el número de iteración del ciclo y la palabra \"Mississippi\".\n",
    "    # Cuerpo del ciclo - uso: time.sleep (1)\n",
    "\n",
    "# Escribe una función de impresión con el mensaje final."
   ]
  },
  {
   "cell_type": "code",
   "execution_count": null,
   "metadata": {},
   "outputs": [],
   "source": []
  }
 ],
 "metadata": {
  "kernelspec": {
   "display_name": "Python 3",
   "language": "python",
   "name": "python3"
  },
  "language_info": {
   "codemirror_mode": {
    "name": "ipython",
    "version": 3
   },
   "file_extension": ".py",
   "mimetype": "text/x-python",
   "name": "python",
   "nbconvert_exporter": "python",
   "pygments_lexer": "ipython3",
   "version": "3.8.3"
  }
 },
 "nbformat": 4,
 "nbformat_minor": 4
}
