{
 "cells": [
  {
   "cell_type": "markdown",
   "metadata": {},
   "source": [
    " 3.1.1.5 LABORATORIO: Preguntas y respuestas"
   ]
  },
  {
   "cell_type": "markdown",
   "metadata": {},
   "source": [
    "Tiempo Estimado\n",
    "\n",
    "5 minutos\n",
    "Nivel de dificultad\n",
    "\n",
    "Muy Fácil\n",
    "Objetivos\n",
    "\n",
    "    Familiarizarse con la función input().\n",
    "    Familiarizarse con los operadores de comparación en Python.\n",
    "\n",
    "Escenario\n",
    "\n",
    "Usando uno de los operadores de comparación en Python, escribe un programa simple de dos líneas que tome el parámetro n como entrada, que es un entero, e imprime False si n es menor que 100, y True si n es mayor o igual que 100.\n",
    "\n",
    "No debes crear ningún bloque if (hablaremos de ellos muy pronto). Prueba tu código usando los datos que te proporcionamos.\n",
    "Datos de prueba\n",
    "\n",
    "Ejemplo de entrada: 55\n",
    "\n",
    "Resultado esperado: False\n",
    "\n",
    "Ejemplo de entrada: 99\n",
    "\n",
    "Resultado esperado: False\n",
    "\n",
    "Ejemplo de entrada: 100\n",
    "\n",
    "Resultado esperado: True\n",
    "\n",
    "Ejemplo de entrada: 101\n",
    "\n",
    "Resultado esperado: True\n",
    "\n",
    "Ejemplo de entrada: -5\n",
    "\n",
    "Resultado esperado: False\n",
    "\n",
    "Ejemplo de entrada: +123\n",
    "\n",
    "Resultado esperado: True"
   ]
  },
  {
   "cell_type": "code",
   "execution_count": 3,
   "metadata": {},
   "outputs": [],
   "source": [
    "def programa(entrada):\n",
    "    if entrada >= 100:\n",
    "        print(True)\n",
    "    else:\n",
    "        print(False)"
   ]
  },
  {
   "cell_type": "code",
   "execution_count": 4,
   "metadata": {},
   "outputs": [
    {
     "name": "stdout",
     "output_type": "stream",
     "text": [
      "Ingrese el número: 55\n",
      "False\n"
     ]
    }
   ],
   "source": [
    "entrada = int(input(\"Ingrese el número: \"))\n",
    "programa(entrada)"
   ]
  },
  {
   "cell_type": "code",
   "execution_count": 5,
   "metadata": {},
   "outputs": [
    {
     "name": "stdout",
     "output_type": "stream",
     "text": [
      "Ingrese el número: 99\n",
      "False\n"
     ]
    }
   ],
   "source": [
    "entrada = int(input(\"Ingrese el número: \"))\n",
    "programa(entrada)"
   ]
  },
  {
   "cell_type": "code",
   "execution_count": 6,
   "metadata": {},
   "outputs": [
    {
     "name": "stdout",
     "output_type": "stream",
     "text": [
      "Ingrese el número: 100\n",
      "True\n"
     ]
    }
   ],
   "source": [
    "entrada = int(input(\"Ingrese el número: \"))\n",
    "programa(entrada)"
   ]
  },
  {
   "cell_type": "code",
   "execution_count": 7,
   "metadata": {},
   "outputs": [
    {
     "name": "stdout",
     "output_type": "stream",
     "text": [
      "Ingrese el número: 101\n",
      "True\n"
     ]
    }
   ],
   "source": [
    "entrada = int(input(\"Ingrese el número: \"))\n",
    "programa(entrada)"
   ]
  },
  {
   "cell_type": "code",
   "execution_count": 8,
   "metadata": {},
   "outputs": [
    {
     "name": "stdout",
     "output_type": "stream",
     "text": [
      "Ingrese el número: -5\n",
      "False\n"
     ]
    }
   ],
   "source": [
    "entrada = int(input(\"Ingrese el número: \"))\n",
    "programa(entrada)"
   ]
  },
  {
   "cell_type": "code",
   "execution_count": 9,
   "metadata": {},
   "outputs": [
    {
     "name": "stdout",
     "output_type": "stream",
     "text": [
      "Ingrese el número: +123\n",
      "True\n"
     ]
    }
   ],
   "source": [
    "entrada = int(input(\"Ingrese el número: \"))\n",
    "programa(entrada)"
   ]
  }
 ],
 "metadata": {
  "kernelspec": {
   "display_name": "Python 3",
   "language": "python",
   "name": "python3"
  },
  "language_info": {
   "codemirror_mode": {
    "name": "ipython",
    "version": 3
   },
   "file_extension": ".py",
   "mimetype": "text/x-python",
   "name": "python",
   "nbconvert_exporter": "python",
   "pygments_lexer": "ipython3",
   "version": "3.8.3"
  }
 },
 "nbformat": 4,
 "nbformat_minor": 4
}
