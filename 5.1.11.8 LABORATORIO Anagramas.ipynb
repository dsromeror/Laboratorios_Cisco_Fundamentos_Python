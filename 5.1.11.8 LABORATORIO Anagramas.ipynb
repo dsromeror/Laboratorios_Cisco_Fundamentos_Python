{
 "cells": [
  {
   "cell_type": "markdown",
   "metadata": {},
   "source": [
    "5.1.11.8 LABORATORIO: Anagramas"
   ]
  },
  {
   "cell_type": "markdown",
   "metadata": {},
   "source": [
    "Tiempo Estimado\n",
    "\n",
    "10-15 minutos\n",
    "\n",
    "Nivel de Dificultad\n",
    "\n",
    "Fácil\n",
    "\n",
    "Objetivos\n",
    "\n",
    "    Mejorar las habilidades del alumno para trabajar con cadenas.\n",
    "    Convertir cadenas en listas, y viceversa.\n",
    "\n",
    "Escenario\n",
    "\n",
    "Un anagrama es una nueva palabra formada al reorganizar las letras de una palabra, usando todas las letras originales exactamente una vez. Por ejemplo, las frases \"rail safety\" y \"fairy tales\" son anagramas, mientras que \"I am\" y \"You are\" no lo son.\n",
    "\n",
    "Tu tarea es escribir un programa que:\n",
    "\n",
    "    Le pida al usuario dos textos por separado.\n",
    "    Compruebe si los textos ingresados son anagramas e imprima el resultado.\n",
    "\n",
    "Nota:\n",
    "\n",
    "    Supongamos que dos cadenas vacías no son anagramas.\n",
    "    Tratar las letras mayúsculas y minúsculas como iguales.\n",
    "    Los espacios no se toman en cuenta durante la verificación: trátalos como inexistentes.\n",
    "\n",
    "Prueba tu código utilizando los datos que te proporcionamos.\n",
    "Datos de Prueba\n",
    "\n",
    "Entrada de Ejemplo:\n",
    "\n",
    "Listen\n",
    "\n",
    "Silent\n",
    "\n",
    "Salida del Ejemplo:\n",
    "Anagramas\n",
    "\n",
    "Entrada de Ejemplo:\n",
    "\n",
    "modern\n",
    "\n",
    "norman\n",
    "\n",
    "Salida del Ejemplo:\n",
    "No son Anagramas"
   ]
  },
  {
   "cell_type": "code",
   "execution_count": 14,
   "metadata": {},
   "outputs": [],
   "source": [
    "def anagramas(cadenaUno,cadenaDos):\n",
    "    salida = []\n",
    "    cadenaUno = cadenaUno.lower()\n",
    "    cadenaUno = list(cadenaUno.replace(' ',''))\n",
    "    \n",
    "    cadenaDos = cadenaDos.lower()\n",
    "    cadenaDos = list(cadenaDos.replace(' ',''))\n",
    "    \n",
    "    for letra in cadenaUno:\n",
    "        if letra not in cadenaDos:\n",
    "            valor = False\n",
    "            salida.append(valor)\n",
    "        else:\n",
    "            valor = True\n",
    "            salida.append(valor)\n",
    "    \n",
    "    if False not in salida:\n",
    "        print(\"Anagramas\")\n",
    "    else:\n",
    "        print(\"No son Anagramas\")"
   ]
  },
  {
   "cell_type": "code",
   "execution_count": 15,
   "metadata": {},
   "outputs": [
    {
     "name": "stdout",
     "output_type": "stream",
     "text": [
      "Ingrese el primer texto: Silent\n",
      "Ingrese el segundo texto: Listen\n",
      "Anagramas\n"
     ]
    }
   ],
   "source": [
    "cadenaUno = input(\"Ingrese el primer texto: \")\n",
    "cadenaDos = input(\"Ingrese el segundo texto: \")\n",
    "\n",
    "anagramas(cadenaUno,cadenaDos)"
   ]
  },
  {
   "cell_type": "code",
   "execution_count": 16,
   "metadata": {},
   "outputs": [
    {
     "name": "stdout",
     "output_type": "stream",
     "text": [
      "Ingrese el primer texto: modern\n",
      "Ingrese el segundo texto: norman\n",
      "No son Anagramas\n"
     ]
    }
   ],
   "source": [
    "cadenaUno = input(\"Ingrese el primer texto: \")\n",
    "cadenaDos = input(\"Ingrese el segundo texto: \")\n",
    "\n",
    "anagramas(cadenaUno,cadenaDos)"
   ]
  }
 ],
 "metadata": {
  "kernelspec": {
   "display_name": "Python 3",
   "language": "python",
   "name": "python3"
  },
  "language_info": {
   "codemirror_mode": {
    "name": "ipython",
    "version": 3
   },
   "file_extension": ".py",
   "mimetype": "text/x-python",
   "name": "python",
   "nbconvert_exporter": "python",
   "pygments_lexer": "ipython3",
   "version": "3.8.3"
  }
 },
 "nbformat": 4,
 "nbformat_minor": 4
}
