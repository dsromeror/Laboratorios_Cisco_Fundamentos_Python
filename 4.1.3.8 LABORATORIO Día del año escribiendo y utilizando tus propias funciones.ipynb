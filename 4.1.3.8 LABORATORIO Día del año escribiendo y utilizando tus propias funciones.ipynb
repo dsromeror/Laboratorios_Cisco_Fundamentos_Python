{
 "cells": [
  {
   "cell_type": "markdown",
   "metadata": {},
   "source": [
    "4.1.3.8 LABORATORIO: Día del año: escribiendo y utilizando tus propias funciones"
   ]
  },
  {
   "cell_type": "markdown",
   "metadata": {},
   "source": [
    "Tiempo estimado\n",
    "\n",
    "20-30 minutos\n",
    "\n",
    "Nivel de dificultad\n",
    "\n",
    "Medio\n",
    "\n",
    "Requisitos previos\n",
    "\n",
    "LAB 4.1.3.6\n",
    "LAB 4.1.3.7\n",
    "Objetivos\n",
    "\n",
    "Familiarizar al estudiante con:\n",
    "\n",
    "    Proyectar y escribir funciones con parámetros.\n",
    "    Utilizar la sentencia return.\n",
    "    Construir un conjunto de funciones de utilidad.\n",
    "    Utilizar las funciones propias del estudiante.\n",
    "\n",
    "Escenario\n",
    "\n",
    "Tu tarea es escribir y probar una función que toma tres argumentos (un año, un mes y un día del mes) y devuelve el día correspondiente del año, o devuelve None si cualquiera de los argumentos no es válido.\n",
    "\n",
    "Debes utilizar las funciones previamente escritas y probadas. Agrega algunos casos de prueba al código. Esta prueba es solo el comienzo."
   ]
  },
  {
   "cell_type": "code",
   "execution_count": null,
   "metadata": {},
   "outputs": [],
   "source": [
    "def isYearLeap(year):\n",
    "#\n",
    "# tu código del LAB 4.1.3.6\n",
    "#\n",
    "\n",
    "def daysInMonth(year, month):\n",
    "#\n",
    "# tu código del LAB 4.1.3.7\n",
    "#\n",
    "\n",
    "def dayOfYear(year, month, day):\n",
    "#\n",
    "# pon tu código nuevo aquí\n",
    "#\n",
    "\n",
    "print(dayOfYear(2000, 12, 31))"
   ]
  }
 ],
 "metadata": {
  "kernelspec": {
   "display_name": "Python 3",
   "language": "python",
   "name": "python3"
  },
  "language_info": {
   "codemirror_mode": {
    "name": "ipython",
    "version": 3
   },
   "file_extension": ".py",
   "mimetype": "text/x-python",
   "name": "python",
   "nbconvert_exporter": "python",
   "pygments_lexer": "ipython3",
   "version": "3.8.3"
  }
 },
 "nbformat": 4,
 "nbformat_minor": 4
}
