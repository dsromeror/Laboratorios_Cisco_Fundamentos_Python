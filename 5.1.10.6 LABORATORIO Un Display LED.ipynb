{
 "cells": [
  {
   "cell_type": "markdown",
   "metadata": {},
   "source": [
    " 5.1.10.6 LABORATORIO: Un Display LED"
   ]
  },
  {
   "cell_type": "markdown",
   "metadata": {},
   "source": [
    "Tiempo Estimado\n",
    "\n",
    "30 minutos\n",
    "Nivel de dificultad\n",
    "\n",
    "Medio\n",
    "Objetivos\n",
    "\n",
    "    Mejorar las habilidades del alumno para trabajar con cadenas.\n",
    "    Usar cadenas para representar datos que no son texto.\n",
    "\n",
    "Escenario\n",
    "\n",
    "Seguramente has visto un display de siete segmentos.\n",
    "\n",
    "Es un dispositivo (a veces electrónico, a veces mecánico) diseñado para presentar un dígito decimal utilizando un subconjunto de siete segmentos. Si aún no sabes lo qué es, consulta la siguiente liga en Wikipedia artículo.\n",
    "\n",
    "Tu tarea es escribir un programa que puede simular el funcionamiento de un display de siete segmentos, aunque vas a usar LEDs individuales en lugar de segmentos.\n",
    "\n",
    "Cada dígito es construido con 13 LEDs (algunos iluminados, otros apagados, por supuesto), así es como lo imaginamos:\n",
    "  # ### ### # # ### ### ### ### ### ### \n",
    "  #   #   # # # #   #     # # # # # # # \n",
    "  # ### ### ### ### ###   # ### ### # # \n",
    "  # #     #   #   # # #   # # #   # # # \n",
    "  # ### ###   # ### ###   # ### ### ###\n",
    "\n",
    "Nota: el número 8 muestra todas las luces LED encendidas.\n",
    "\n",
    "Tu código debe mostrar cualquier número entero no negativo ingresado por el usuario.\n",
    "\n",
    "Consejo: puede ser muy útil usar una lista que contenga patrones de los diez dígitos.\n",
    "Datos de prueba\n",
    "\n",
    "Entrada de muestra:\n",
    "123\n",
    "\n",
    "Salida de muestra:\n",
    "  # ### ### \n",
    "  #   #   # \n",
    "  # ### ### \n",
    "  # #     # \n",
    "  # ### ### \n",
    "\n",
    "Entrada de muestra:\n",
    "9081726354\n",
    "\n",
    "Salida de muestra:\n",
    "### ### ###   # ### ### ### ### ### # # \n",
    "# # # # # #   #   #   # #     # #   # # \n",
    "### # # ###   #   # ### ### ### ### ### \n",
    "  # # # # #   #   # #   # #   #   #   # \n",
    "### ### ###   #   # ### ### ### ###   # "
   ]
  }
 ],
 "metadata": {
  "kernelspec": {
   "display_name": "Python 3",
   "language": "python",
   "name": "python3"
  },
  "language_info": {
   "codemirror_mode": {
    "name": "ipython",
    "version": 3
   },
   "file_extension": ".py",
   "mimetype": "text/x-python",
   "name": "python",
   "nbconvert_exporter": "python",
   "pygments_lexer": "ipython3",
   "version": "3.8.3"
  }
 },
 "nbformat": 4,
 "nbformat_minor": 4
}
