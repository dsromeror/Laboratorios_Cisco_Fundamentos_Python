{
 "cells": [
  {
   "cell_type": "markdown",
   "metadata": {},
   "source": [
    "5.1.11.7 LABORATORIO: Palíndromos"
   ]
  },
  {
   "cell_type": "markdown",
   "metadata": {},
   "source": [
    "Tiempo Estimado\n",
    "\n",
    "10-15 minutos\n",
    "\n",
    "Nivel de Dificultad\n",
    "\n",
    "Fácil\n",
    "\n",
    "Objetivos\n",
    "\n",
    "    Mejorar las habilidades del alumno para manipular cadenas.\n",
    "    Alentar al alumno a buscar soluciones no obvias.\n",
    "\n",
    "Escenario\n",
    "\n",
    "¿Sabes qué es un palíndromo?\n",
    "\n",
    "Es una palabra que se ve igual cuando se lee hacia adelante y hacia atrás. Por ejemplo, \"kayak\" es un palíndromo, mientras que \"leal\" no lo es.\n",
    "\n",
    "Tu tarea es escribir un programa que:\n",
    "\n",
    "    Le pida al usuario algún texto.\n",
    "    Compruebe si el texto introducido es un palíndromo e imprima el resultado.\n",
    "\n",
    "Nota:\n",
    "\n",
    "    Supón que una cadena vacía no es un palíndromo.\n",
    "    Trata las letras mayúsculas y minúsculas como iguales.\n",
    "    Los espacios no se toman en cuenta durante la verificación: trátalos como inexistentes.\n",
    "    Existe más de una solución correcta: intenta encontrar más de una.\n",
    "\n",
    "Prueba tu código utilizando los datos que te proporcionamos.\n",
    "Datos de Prueba\n",
    "\n",
    "Entrada Muestra:\n",
    "Ten animals I slam in a net\n",
    "\n",
    "Salida Muestra:\n",
    "Es un palíndromo\n",
    "\n",
    "Entrada Muestra:\n",
    "Eleven animals I slam in a net\n",
    "\n",
    "Salida Muestra:\n",
    "No es un palíndromo"
   ]
  },
  {
   "cell_type": "code",
   "execution_count": 24,
   "metadata": {},
   "outputs": [],
   "source": [
    "def palindromos(texto):\n",
    "    textoF = texto.lower()\n",
    "    textoInverso = textoF[::-1]\n",
    "    textoFsinespacios = textoF.replace(' ','')\n",
    "    textoInversonsinespacios = textoInverso.replace(' ', '')\n",
    "    \n",
    "    if textoFsinespacios == textoInversonsinespacios:\n",
    "        print(\"Es un palíndromo\")\n",
    "    else:\n",
    "        print(\"No es un palíndromo\")"
   ]
  },
  {
   "cell_type": "code",
   "execution_count": 25,
   "metadata": {},
   "outputs": [
    {
     "name": "stdout",
     "output_type": "stream",
     "text": [
      "Ingrese el texto: Ten animals I slam in a net\n",
      "Es un palíndromo\n"
     ]
    }
   ],
   "source": [
    "texto = input(\"Ingrese el texto: \")\n",
    "palindromos(texto)"
   ]
  },
  {
   "cell_type": "code",
   "execution_count": 26,
   "metadata": {},
   "outputs": [
    {
     "name": "stdout",
     "output_type": "stream",
     "text": [
      "Ingrese el texto: Eleven animals I slam in a net\n",
      "No es un palíndromo\n"
     ]
    }
   ],
   "source": [
    "texto = input(\"Ingrese el texto: \")\n",
    "palindromos(texto)"
   ]
  }
 ],
 "metadata": {
  "kernelspec": {
   "display_name": "Python 3",
   "language": "python",
   "name": "python3"
  },
  "language_info": {
   "codemirror_mode": {
    "name": "ipython",
    "version": 3
   },
   "file_extension": ".py",
   "mimetype": "text/x-python",
   "name": "python",
   "nbconvert_exporter": "python",
   "pygments_lexer": "ipython3",
   "version": "3.8.3"
  }
 },
 "nbformat": 4,
 "nbformat_minor": 4
}
