{
 "cells": [
  {
   "cell_type": "markdown",
   "metadata": {},
   "source": [
    "5.1.6.4 Leer ints de forma segura"
   ]
  },
  {
   "cell_type": "markdown",
   "metadata": {},
   "source": [
    "Tiempo Estimado\n",
    "\n",
    "15-25 minutos\n",
    "\n",
    "Nivel de dificultad\n",
    "\n",
    "Mediano\n",
    "\n",
    "Objetivos\n",
    "\n",
    "    Mejorar las habilidades del alumno para definir funciones.\n",
    "    Utilizar excepciones para proporcionar un entorno de entrada seguro.\n",
    "\n",
    "Escenario\n",
    "\n",
    "Tu tarea es escribir una función capaz de ingresar valores enteros y verificar si están dentro de un rango especificado.\n",
    "\n",
    "La función debe:\n",
    "\n",
    "    Aceptar tres argumentos: una entrada, un límite inferior aceptable y un límite superior aceptable.\n",
    "    Si el usuario ingresa una cadena que no es un valor entero, la función debe emitir el mensaje Error: entrada incorrecta, y solicitará al usuario que ingrese el valor nuevamente.\n",
    "    Si el usuario ingresa un número que está fuera del rango especificado, la función debe emitir el mensaje Error: el valor no está dentro del rango permitido (min..max) y solicitará al usuario que ingrese el valor nuevamente.\n",
    "    Si el valor de entrada es válido, será regresado como resultado.\n",
    "\n",
    "Datos de Prueba\n",
    "\n",
    "Prueba tu código cuidadosamente.\n",
    "\n",
    "Así es como la función debería reaccionar ante la entrada del usuario:\n",
    "Ingresa un número entre -10 a 10: 100\n",
    "Error: el valor no está dentro del rango permitido (-10..10)\n",
    "Ingresa un número entre -10 a 10: asd\n",
    "Error: entrada incorrecta\n",
    "Ingresa un número entre -10 a 10: 1\n",
    "El número es: 1"
   ]
  },
  {
   "cell_type": "code",
   "execution_count": 2,
   "metadata": {},
   "outputs": [
    {
     "name": "stdout",
     "output_type": "stream",
     "text": [
      "Ingresa un numero de -10 a 10: -12\n",
      "Error: el valor no está dentro del rango permitido -10 hasta 10\n",
      "Ingresa un numero de -10 a 10: Ingresa un numero de -10 a 10: l\n",
      "Error: entrada incorrecta\n",
      "Ingresa un número de -10 a 1: Ingresa un numero de -10 a 10: 5\n",
      "El numero es: 5\n"
     ]
    }
   ],
   "source": [
    "def readint(prompt, min, max):\n",
    "    try:\n",
    "        prompt = int(input(\"Ingresa un numero de -10 a 10: \"))\n",
    "        if prompt < min or prompt > max:\n",
    "            print(\"Error: el valor no está dentro del rango permitido \" + str(min) + \" hasta \" + str(max))\n",
    "            return readint(print(\"Ingresa un numero de -10 a 10: \" , end=''), -10, 10)\n",
    "    except ValueError:\n",
    "        print(\"Error: entrada incorrecta\")\n",
    "        return readint(print(\"Ingresa un número de -10 a 1: \", end=''), -10, 10)\n",
    "    else:\n",
    "        return prompt\n",
    "\n",
    "v = readint(\"Ingresa un numero de -10 a 10: \", -10, 10)\n",
    "\n",
    "print(\"El numero es:\", v)"
   ]
  }
 ],
 "metadata": {
  "kernelspec": {
   "display_name": "Python 3",
   "language": "python",
   "name": "python3"
  },
  "language_info": {
   "codemirror_mode": {
    "name": "ipython",
    "version": 3
   },
   "file_extension": ".py",
   "mimetype": "text/x-python",
   "name": "python",
   "nbconvert_exporter": "python",
   "pygments_lexer": "ipython3",
   "version": "3.8.3"
  }
 },
 "nbformat": 4,
 "nbformat_minor": 4
}
