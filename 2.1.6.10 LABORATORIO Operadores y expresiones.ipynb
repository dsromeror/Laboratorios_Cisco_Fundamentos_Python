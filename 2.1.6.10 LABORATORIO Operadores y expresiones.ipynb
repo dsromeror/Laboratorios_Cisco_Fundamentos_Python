{
 "cells": [
  {
   "cell_type": "markdown",
   "metadata": {},
   "source": [
    "2.1.6.10 LABORATORIO: Operadores y expresiones"
   ]
  },
  {
   "attachments": {
    "imagen.png": {
     "image/png": "[encoded data removed]"
    }
   },
   "cell_type": "markdown",
   "metadata": {},
   "source": [
    "Tiempo estimado\n",
    "\n",
    "20 minutos\n",
    "Nivel de dificultad\n",
    "\n",
    "Intermedio\n",
    "Objetivos\n",
    "\n",
    "    Familiarizarse con los conceptos de números, operadores y expresiones aritméticas en Python.\n",
    "    Comprender la precedencia y asociatividad de los operadores de Python, así como el correcto uso de los paréntesis.\n",
    "\n",
    "Escenario\n",
    "\n",
    "![imagen.png](attachment:imagen.png)\n",
    "\n",
    "La tarea es completar el código para poder evaluar la siguiente expresión:\n",
    "\n",
    "El resultado debe de ser asignado a y. Se cauteloso, observa los operadores y priorízalos. Utiliza cuantos paréntesis sean necesarios.\n",
    "\n",
    "Puedes utilizar variables adicionales para acortar la expresión (sin embargo, no es muy necesario). Prueba tu código cuidadosamente.\n",
    "\n",
    "Datos de Prueba\n",
    "\n",
    "Entrada de muestra: 1\n",
    "\n",
    "Salida esperada:\n",
    "y = 0.6000000000000001\n",
    "\n",
    "Entrada de muestra: 10\n",
    "\n",
    "Salida esperada:\n",
    "y = 0.09901951266867294\n",
    "\n",
    "Entrada de muestra: 100\n",
    "\n",
    "Salida esperada:\n",
    "y = 0.009999000199950014\n",
    "\n",
    "Entrada de muestra: -5\n",
    "\n",
    "Salida esperada:\n",
    "y = -0.19258202567760344"
   ]
  },
  {
   "cell_type": "code",
   "execution_count": 13,
   "metadata": {},
   "outputs": [],
   "source": [
    "def fun(x):\n",
    "    result = 1/(x+(1/(x+1/(x+1/x))))\n",
    "    return result"
   ]
  },
  {
   "cell_type": "code",
   "execution_count": 14,
   "metadata": {},
   "outputs": [
    {
     "name": "stdout",
     "output_type": "stream",
     "text": [
      "Ingrese el valor de x: 1\n"
     ]
    },
    {
     "data": {
      "text/plain": [
       "0.6000000000000001"
      ]
     },
     "execution_count": 14,
     "metadata": {},
     "output_type": "execute_result"
    }
   ],
   "source": [
    "x = int(input(\"Ingrese el valor de x: \"))\n",
    "fun(x)"
   ]
  },
  {
   "cell_type": "code",
   "execution_count": 15,
   "metadata": {},
   "outputs": [
    {
     "name": "stdout",
     "output_type": "stream",
     "text": [
      "Ingrese el valor de x: 10\n"
     ]
    },
    {
     "data": {
      "text/plain": [
       "0.09901951266867294"
      ]
     },
     "execution_count": 15,
     "metadata": {},
     "output_type": "execute_result"
    }
   ],
   "source": [
    "x = int(input(\"Ingrese el valor de x: \"))\n",
    "fun(x)"
   ]
  },
  {
   "cell_type": "code",
   "execution_count": 16,
   "metadata": {},
   "outputs": [
    {
     "name": "stdout",
     "output_type": "stream",
     "text": [
      "Ingrese el valor de x: 100\n"
     ]
    },
    {
     "data": {
      "text/plain": [
       "0.009999000199950014"
      ]
     },
     "execution_count": 16,
     "metadata": {},
     "output_type": "execute_result"
    }
   ],
   "source": [
    "x = int(input(\"Ingrese el valor de x: \"))\n",
    "fun(x)"
   ]
  },
  {
   "cell_type": "code",
   "execution_count": 17,
   "metadata": {},
   "outputs": [
    {
     "name": "stdout",
     "output_type": "stream",
     "text": [
      "Ingrese el valor de x: -5\n"
     ]
    },
    {
     "data": {
      "text/plain": [
       "-0.19258202567760344"
      ]
     },
     "execution_count": 17,
     "metadata": {},
     "output_type": "execute_result"
    }
   ],
   "source": [
    "x = int(input(\"Ingrese el valor de x: \"))\n",
    "fun(x)"
   ]
  },
  {
   "cell_type": "code",
   "execution_count": null,
   "metadata": {},
   "outputs": [],
   "source": []
  }
 ],
 "metadata": {
  "kernelspec": {
   "display_name": "Python 3",
   "language": "python",
   "name": "python3"
  },
  "language_info": {
   "codemirror_mode": {
    "name": "ipython",
    "version": 3
   },
   "file_extension": ".py",
   "mimetype": "text/x-python",
   "name": "python",
   "nbconvert_exporter": "python",
   "pygments_lexer": "ipython3",
   "version": "3.8.3"
  }
 },
 "nbformat": 4,
 "nbformat_minor": 4
}
