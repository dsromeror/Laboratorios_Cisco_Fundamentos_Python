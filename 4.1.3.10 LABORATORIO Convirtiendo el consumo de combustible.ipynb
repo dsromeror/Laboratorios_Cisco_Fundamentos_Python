{
 "cells": [
  {
   "cell_type": "markdown",
   "metadata": {},
   "source": [
    " 4.1.3.10 LAB: Convirtiendo el consumo de combustible"
   ]
  },
  {
   "cell_type": "markdown",
   "metadata": {},
   "source": [
    "Tiempo estimado\n",
    "\n",
    "10-15 minutos\n",
    "\n",
    "Nivel de dificultad\n",
    "\n",
    "Fácil\n",
    "\n",
    "Objetivos\n",
    "\n",
    "    Mejorar las habilidades del estudiante para definir, utilizar y probar funciones.\n",
    "\n",
    "Escenario\n",
    "\n",
    "El consumo de combustible de un automóvil se puede expresar de muchas maneras diferentes. Por ejemplo, en Europa, se muestra como la cantidad de combustible consumido por cada 100 kilómetros.\n",
    "\n",
    "En los EE. UU., se muestra como la cantidad de millas recorridas por un automóvil con un galón de combustible.\n",
    "\n",
    "Tu tarea es escribir un par de funciones que conviertan l/100km a mpg(milas por galón), y viceversa.\n",
    "\n",
    "Las funciones:\n",
    "\n",
    "    Se llaman l100kmampg y mpgal100km respectivamente.\n",
    "    Toman un argumento (el valor correspondiente a sus nombres).\n",
    "\n",
    "Complementa el código en el editor.\n",
    "\n",
    "Ejecuta tu código y verifica si tu salida es la misma que la nuestra.\n",
    "\n",
    "Aquí hay información para ayudarte:\n",
    "\n",
    "    1 milla = 1609.344 metros.\n",
    "    1 galón = 3.785411784 litros. \n",
    "\n",
    "Datos de prueba\n",
    "\n",
    "Salida esperada:\n",
    "\n",
    "60.31143162393162\n",
    "\n",
    "31.36194444444444\n",
    "\n",
    "23.52145833333333\n",
    "\n",
    "3.9007393587617467\n",
    "\n",
    "7.490910297239916\n",
    "\n",
    "10.009131205673757"
   ]
  },
  {
   "cell_type": "code",
   "execution_count": 7,
   "metadata": {},
   "outputs": [
    {
     "name": "stdout",
     "output_type": "stream",
     "text": [
      "60.31143162393162\n",
      "31.36194444444444\n",
      "23.52145833333333\n",
      "3.9007393587617467\n",
      "7.490910297239915\n",
      "10.009131205673757\n"
     ]
    }
   ],
   "source": [
    "def l100kmtompg(liters):\n",
    "    return (3.785411784*100)/(liters*1.609344)\n",
    "\n",
    "def mpgtol100km(miles):\n",
    "    return (3.785411784*100)/(miles*1.609344)\n",
    "\n",
    "print(l100kmtompg(3.9))\n",
    "print(l100kmtompg(7.5))\n",
    "print(l100kmtompg(10.))\n",
    "print(mpgtol100km(60.3))\n",
    "print(mpgtol100km(31.4))\n",
    "print(mpgtol100km(23.5))"
   ]
  }
 ],
 "metadata": {
  "kernelspec": {
   "display_name": "Python 3",
   "language": "python",
   "name": "python3"
  },
  "language_info": {
   "codemirror_mode": {
    "name": "ipython",
    "version": 3
   },
   "file_extension": ".py",
   "mimetype": "text/x-python",
   "name": "python",
   "nbconvert_exporter": "python",
   "pygments_lexer": "ipython3",
   "version": "3.8.3"
  }
 },
 "nbformat": 4,
 "nbformat_minor": 4
}
