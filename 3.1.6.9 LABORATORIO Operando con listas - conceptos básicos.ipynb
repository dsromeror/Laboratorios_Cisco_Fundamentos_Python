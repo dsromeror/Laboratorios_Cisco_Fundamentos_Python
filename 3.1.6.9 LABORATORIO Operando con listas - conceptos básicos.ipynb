{
 "cells": [
  {
   "cell_type": "markdown",
   "metadata": {},
   "source": [
    "3.1.6.9 LABORATORIO: Operando con listas - conceptos básicos"
   ]
  },
  {
   "cell_type": "markdown",
   "metadata": {},
   "source": [
    "Tiempo estimado\n",
    "\n",
    "10-15 minutos\n",
    "\n",
    "Nivel de dificultad\n",
    "\n",
    "Fácil\n",
    "\n",
    "Objetivos\n",
    "\n",
    "Familiarizar al estudiante con:\n",
    "\n",
    "    Indexación de listas.\n",
    "    Utilizar operadoresin y not in.\n",
    "\n",
    "Escenario\n",
    "\n",
    "Imagina una lista: no muy larga ni muy complicada, solo una lista simple que contiene algunos números enteros. Algunos de estos números pueden estar repetidos, y esta es la clave. No queremos ninguna repetición. Queremos que sean eliminados.\n",
    "\n",
    "Tu tarea es escribir un programa que elimine todas las repeticiones de números de la lista. El objetivo es tener una lista en la que todos los números aparezcan no más de una vez.\n",
    "\n",
    "Nota: Asume que la lista original está ya dentro del código, no tienes que ingresarla desde el teclado. Por supuesto, puedes mejorar el código y agregar una parte que pueda llevar a cabo una conversación con el usuario y obtener todos los datos.\n",
    "\n",
    "Sugerencia: Te recomendamos que crees una nueva lista como área de trabajo temporal, no necesitas actualizar la lista actual.\n",
    "\n",
    "No hemos proporcionado datos de prueba, ya que sería demasiado fácil. Puedes usar nuestro esqueleto en su lugar. "
   ]
  },
  {
   "cell_type": "code",
   "execution_count": 2,
   "metadata": {},
   "outputs": [
    {
     "name": "stdout",
     "output_type": "stream",
     "text": [
      "La lista solo con elementos únicos:  [1, 2, 4, 6, 9]\n",
      "[1, 2, 4, 4, 1, 4, 2, 6, 2, 9]\n"
     ]
    }
   ],
   "source": [
    "miLista = [1, 2, 4, 4, 1, 4, 2, 6, 2, 9]\n",
    "nuevaLista = []\n",
    "\n",
    "for i in miLista:\n",
    "    if i not in nuevaLista:\n",
    "        nuevaLista.append(i)\n",
    "        \n",
    "print(\"La lista solo con elementos únicos: \", nuevaLista)\n",
    "print(miLista)"
   ]
  }
 ],
 "metadata": {
  "kernelspec": {
   "display_name": "Python 3",
   "language": "python",
   "name": "python3"
  },
  "language_info": {
   "codemirror_mode": {
    "name": "ipython",
    "version": 3
   },
   "file_extension": ".py",
   "mimetype": "text/x-python",
   "name": "python",
   "nbconvert_exporter": "python",
   "pygments_lexer": "ipython3",
   "version": "3.8.3"
  }
 },
 "nbformat": 4,
 "nbformat_minor": 4
}
