{
 "cells": [
  {
   "cell_type": "markdown",
   "metadata": {},
   "source": [
    " 3.1.2.11 LABORATORIO: La declaración continue - El Bonito Devorador de Vocales"
   ]
  },
  {
   "cell_type": "markdown",
   "metadata": {},
   "source": [
    " Tiempo estimado\n",
    "\n",
    "5-10 minutos\n",
    "Nivel de dificultad\n",
    "\n",
    "Fácil\n",
    "Objetivos\n",
    "\n",
    "Familiarizar al estudiante con:\n",
    "\n",
    "    Utilizar la instrucción continue en los ciclos.\n",
    "    Modificar y actualizar el código existente.\n",
    "    Reflejar situaciones de la vida real en código de computadora.\n",
    "\n",
    "Escenario\n",
    "\n",
    "Tu tarea aquí es aún más especial que antes: ¡Debes rediseñar el devorador de vocales (feo) del laboratorio anterior (3.1.2.10) y crear un mejor devorador de vocales (bonito) mejorado! Escribe un programa que use:\n",
    "\n",
    "    Un ciclo for.\n",
    "    El concepto de ejecución condicional (if-elif-else ).\n",
    "    La declaración continue.\n",
    "\n",
    "Tu programa debe:\n",
    "\n",
    "    Pedir al usuario que ingrese una palabra.\n",
    "    Utilizar userWord = userWord.upper() para convertir la palabra ingresada por el usuario a mayúsculas; hablaremos sobre los llamados métodos de cadena y el upper() muy pronto, no te preocupes.\n",
    "    Usa la ejecución condicional y la instrucción continue para \"comer\" las siguientes vocales A , E , I , O , U de la palabra ingresada.\n",
    "    Asigne las letras no consumidas a la variable palabrasinVocal e imprime la variable en la pantalla.\n",
    "\n",
    "Analiza el código en el editor. Hemos creado palabrasinVocal y le hemos asignado una cadena vacía. Utiliza la operación de concatenación para pedirle a Python que combine las letras seleccionadas en una cadena más larga durante los siguientes giros de ciclo, y asignarlo a la variable palabrasinVocal.\n",
    "\n",
    "Prueba tu programa con los datos que le proporcionamos.\n",
    "\n",
    "Datos de prueba\n",
    "\n",
    "Entrada de muestra: Gregory\n",
    "\n",
    "Salida esperada:\n",
    "GRGRY\n",
    "\n",
    "Entrada de muestra: abstemious\n",
    "\n",
    "Salida esperada:\n",
    "BSTMS\n",
    "\n",
    "Entrada de muestra: IOUEA\n",
    "\n",
    "Salida esperada:\n",
    " "
   ]
  },
  {
   "cell_type": "code",
   "execution_count": null,
   "metadata": {},
   "outputs": [],
   "source": [
    "def devorador(entrada):\n",
    "    entrada = entrada.upper()\n",
    "    palabraSinVocal = \"\"\n",
    "    \n",
    "    for letra in entrada:\n",
    "        if letra == \"A\" or letra==\"E\" or letra ==\"I\" or letra ==\"O\" or letra ==\"U\":\n",
    "            continue\n",
    "        else:\n",
    "            print(letra, end=' ')"
   ]
  },
  {
   "cell_type": "code",
   "execution_count": null,
   "metadata": {},
   "outputs": [],
   "source": []
  }
 ],
 "metadata": {
  "kernelspec": {
   "display_name": "Python 3",
   "language": "python",
   "name": "python3"
  },
  "language_info": {
   "codemirror_mode": {
    "name": "ipython",
    "version": 3
   },
   "file_extension": ".py",
   "mimetype": "text/x-python",
   "name": "python",
   "nbconvert_exporter": "python",
   "pygments_lexer": "ipython3",
   "version": "3.8.3"
  }
 },
 "nbformat": 4,
 "nbformat_minor": 4
}
