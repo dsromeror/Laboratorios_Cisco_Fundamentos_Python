{
 "cells": [
  {
   "cell_type": "markdown",
   "metadata": {},
   "source": [
    "6.1.9.15 LABORATORIO: Histograma de frecuencia de caracteres"
   ]
  },
  {
   "cell_type": "markdown",
   "metadata": {},
   "source": [
    "Tiempo Estimado\n",
    "\n",
    "30 minutos\n",
    "\n",
    "Nivel de dificultad\n",
    "\n",
    "Medio\n",
    "\n",
    "Objetivos\n",
    "\n",
    "    Mejorar las habilidades del estudiante al operar con la lectura archivos.\n",
    "    Utilizar colecciones de datos para contar datos numerosos.\n",
    "\n",
    "Escenario\n",
    "\n",
    "Un archivo de texto contiene algo de texto (nada inusual) pero necesitamos saber con qué frecuencia aparece cada letra en el texto. Tal análisis puede ser útil en criptografía, por lo que queremos poder hacerlo en referencia al alfabeto latino.\n",
    "\n",
    "Tu tarea es escribir un programa que:\n",
    "\n",
    "    Pida al usuario el nombre del archivo de entrada.\n",
    "    Lea el archivo (si es posible) y cuente todas las letras latinas (las letras mayúsculas y minúsculas se tratan como iguales).\n",
    "    Imprima un histograma simple en orden alfabético (solo se deben presentar recuentos distintos de cero).\n",
    "\n",
    "Crea un archivo de prueba para tu código y verifica si tu histograma contiene resultados válidos.\n",
    "\n",
    "Suponiendo que el archivo de prueba contiene solo una línea con:\n",
    "\n",
    "aBc\n",
    "\n",
    "el resultado esperado debería verse de la siguiente manera:\n",
    "\n",
    "a -> 1\n",
    "\n",
    "b -> 1\n",
    "\n",
    "c -> 1\n",
    "\n",
    "Tip:\n",
    "\n",
    "Creemos que un diccionario es un medio perfecto de recopilación de datos para almacenar los recuentos. Las letras pueden ser las claves mientras que los contadores pueden ser los valores."
   ]
  },
  {
   "cell_type": "code",
   "execution_count": 11,
   "metadata": {},
   "outputs": [],
   "source": [
    "def histograma(archivo):\n",
    "    dic = {}\n",
    "    try:\n",
    "        handler = open(archivo, mode = 'r')\n",
    "        contenido = handler.readline().lower()\n",
    "        for letra in contenido:\n",
    "            dic[letra] =  contenido.count(letra)\n",
    "        \n",
    "        for k,v in dic.items():\n",
    "            print(k,'->',v)\n",
    "        \n",
    "    except FileNotFoundError:\n",
    "        print('Archivo no encontrado:', archivo)\n",
    "        exit()"
   ]
  },
  {
   "cell_type": "code",
   "execution_count": 12,
   "metadata": {},
   "outputs": [
    {
     "name": "stdout",
     "output_type": "stream",
     "text": [
      "Introduce el nombre del archivo: 6.1.9.15.txt\n",
      "a -> 1\n",
      "b -> 1\n",
      "c -> 1\n"
     ]
    }
   ],
   "source": [
    "archivo = input('Introduce el nombre del archivo: ')\n",
    "histograma(archivo) #Nombre del archivo = 6.1.9.15.txt"
   ]
  }
 ],
 "metadata": {
  "kernelspec": {
   "display_name": "Python 3",
   "language": "python",
   "name": "python3"
  },
  "language_info": {
   "codemirror_mode": {
    "name": "ipython",
    "version": 3
   },
   "file_extension": ".py",
   "mimetype": "text/x-python",
   "name": "python",
   "nbconvert_exporter": "python",
   "pygments_lexer": "ipython3",
   "version": "3.8.3"
  }
 },
 "nbformat": 4,
 "nbformat_minor": 4
}
