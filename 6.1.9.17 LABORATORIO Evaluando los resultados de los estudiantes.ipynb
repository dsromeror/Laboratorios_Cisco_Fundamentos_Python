{
 "cells": [
  {
   "cell_type": "markdown",
   "metadata": {},
   "source": [
    "6.1.9.17 LABORATORIO: Evaluando los resultados de los estudiantes"
   ]
  },
  {
   "cell_type": "markdown",
   "metadata": {},
   "source": [
    "Tiempo Estimado\n",
    "\n",
    "30 minutos\n",
    "\n",
    "Nivel de dificultad\n",
    "\n",
    "Medio\n",
    "\n",
    "Objetivos\n",
    "\n",
    "    Mejorar las habilidades del alumno para operar con archivos en modo lectura.\n",
    "    Perfeccionar las habilidades del estudiante para definir y usar excepciones y diccionarios autodefinidos.\n",
    "\n",
    "Escenario\n",
    "\n",
    "El profesor Jekyll dirige clases con estudiantes y regularmente toma notas en un archivo de texto. Cada línea del archivo contiene 3 elementos: el nombre del alumno, el apellido del alumno y el número de puntos que el alumno recibió durante ciertas clases.\n",
    "\n",
    "Los elementos están separados con espacios en blanco. Cada estudiante puede aparecer más de una vez dentro del archivo del profesor Jekyll.\n",
    "\n",
    "El archivo puede tener el siguiente aspecto:\n",
    "John\tSmith\t5\n",
    "Anna\tBoleyn\t4.5\n",
    "John\tSmith\t2\n",
    "Anna\tBoleyn\t11\n",
    "Andrew\tCox\t1.5\n",
    "\n",
    "Tu tarea es escribir un programa que:\n",
    "\n",
    "    Pida al usuario el nombre del archivo del profesor Jekyll.\n",
    "    Lea el contenido del archivo y cuenta la suma de los puntos recibidos para cada estudiante.\n",
    "    Imprima un informe simple (pero ordenado), como este:\n",
    "\n",
    "Andrew Cox \t 1.5\n",
    "\n",
    "Anna Boleyn \t 15.5\n",
    "\n",
    "John Smith \t 7.0\n",
    "\n",
    "Nota:\n",
    "\n",
    "    Tu programa debe estar completamente protegido contra todas las fallas posibles: la inexistencia del archivo, el vacío del archivo o cualquier falla en los datos de entrada; encontrar cualquier error de datos debería causar la terminación inmediata del programa, y lo erróneo deberá presentarse al usuario.\n",
    "    Implementa y usa tu propia jerarquía de excepciones: la presentamos en el editor; la segunda excepción se debe generar cuando se detecta una línea incorrecta y la tercera cuando el archivo fuente existe pero está vacío.\n",
    "\n",
    "Tip:\n",
    "\n",
    "Emplea un diccionario para almacenar los datos de los estudiantes."
   ]
  },
  {
   "cell_type": "code",
   "execution_count": null,
   "metadata": {},
   "outputs": [],
   "source": [
    "class ExcepcionDatosAlumnos(Exception):\n",
    "    pass\n",
    "\n",
    "#class LineaErronea(ExcepcionDatosAlumnos):\n",
    "\n",
    "\n",
    "class ArchivoVacio(ExcepcionDatosAlumnos):\n",
    "    handler = open(archivo, mode = 'r')\n",
    "    contenido = handler.read()\n",
    "    if contenido =='':\n",
    "        print('El archivo se encuentra vacío')"
   ]
  },
  {
   "cell_type": "code",
   "execution_count": 4,
   "metadata": {},
   "outputs": [],
   "source": [
    "def histograma(archivo):\n",
    "    dic = {}\n",
    "    try:\n",
    "        handler = open(archivo, mode = 'r')\n",
    "        contenido = handler.readline().lower()\n",
    "        for letra in contenido:\n",
    "            dic[letra] =  contenido.count(letra)\n",
    "        \n",
    "        for k,v in sorted(dic.items()):\n",
    "            print(k,'->',v)\n",
    "            \n",
    "    except ArchivoVacio:\n",
    "        print('El archivo se encuentra vacío', archivo)\n",
    "        exit()\n",
    "        \n",
    "    except FileNotFoundError:\n",
    "        print('Archivo no encontrado:', archivo)\n",
    "        exit()"
   ]
  },
  {
   "cell_type": "code",
   "execution_count": 5,
   "metadata": {},
   "outputs": [
    {
     "name": "stdout",
     "output_type": "stream",
     "text": [
      "Introduce el nombre del archivo: 6.1.9.17.txt\n"
     ]
    }
   ],
   "source": [
    "archivo = input('Introduce el nombre del archivo: ')\n",
    "histograma(archivo) #Nombre del archivo = 6.1.9.17.txt"
   ]
  },
  {
   "cell_type": "code",
   "execution_count": null,
   "metadata": {},
   "outputs": [],
   "source": []
  },
  {
   "cell_type": "code",
   "execution_count": null,
   "metadata": {},
   "outputs": [],
   "source": []
  }
 ],
 "metadata": {
  "kernelspec": {
   "display_name": "Python 3",
   "language": "python",
   "name": "python3"
  },
  "language_info": {
   "codemirror_mode": {
    "name": "ipython",
    "version": 3
   },
   "file_extension": ".py",
   "mimetype": "text/x-python",
   "name": "python",
   "nbconvert_exporter": "python",
   "pygments_lexer": "ipython3",
   "version": "3.8.3"
  }
 },
 "nbformat": 4,
 "nbformat_minor": 4
}
