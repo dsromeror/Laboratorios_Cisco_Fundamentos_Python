{
 "cells": [
  {
   "cell_type": "markdown",
   "metadata": {},
   "source": [
    " 3.1.1.13 LABORATORIO: Lo fundamental de la sentencia if-elif-else"
   ]
  },
  {
   "cell_type": "markdown",
   "metadata": {},
   "source": [
    "Tiempo estimado\n",
    "\n",
    "10-15 minutos\n",
    "Nivel de dificultad\n",
    "\n",
    "Fácil/Medio\n",
    "Objetivos\n",
    "\n",
    "Familiarizar al estudiante con:\n",
    "\n",
    "    Utilizar la declaración if-elif-else.\n",
    "    Encontrar la implementación adecuada de reglas definidas verbalmente.\n",
    "    Emplear el código de prueba usando entrada y salida de muestra.\n",
    "\n",
    "Escenario\n",
    "\n",
    "Como seguramente sabrás, debido a algunas razones astronómicas, el año pueden ser bisiesto o común . Los primeros tienen una duración de 366 días, mientras que los últimos tienen una duración de 365 días.\n",
    "\n",
    "Desde la introducción del calendario gregoriano (en 1582), se utiliza la siguiente regla para determinar el tipo de año:\n",
    "\n",
    "    Si el número del año no es divisible entre cuatro, es un año común.\n",
    "    De lo contrario, si el número del año no es divisible entre 100, es un año bisiesto.\n",
    "    De lo contrario, si el número del año no es divisible entre 400, es un año común.\n",
    "    De lo contrario, es un año bisiesto.\n",
    "\n",
    "Observa el código en el editor: solo lee un número de año y debe completarse con las instrucciones que implementan la prueba que acabamos de describir.\n",
    "\n",
    "El código debe mostrar uno de los dos mensajes posibles, que son Año bisiesto o Año común, según el valor ingresado.\n",
    "\n",
    "Sería bueno verificar si el año ingresado cae en la era gregoriana y emitir una advertencia de lo contrario: No dentro del período del calendario gregoriano. Consejo: utiliza los operadores != y %.\n",
    "\n",
    "Prueba tu código con los datos que hemos proporcionado.\n",
    "Datos de prueba\n",
    "\n",
    "Entrada de muestra: 2000\n",
    "\n",
    "Resultado esperado: Año bisiesto\n",
    "\n",
    "Entrada de muestra: 2015\n",
    "\n",
    "Resultado esperado: Año común \n",
    "\n",
    "Entrada de muestra: 1999\n",
    "\n",
    "Resultado esperado: Año común \n",
    "\n",
    "Entrada de muestra: 1996\n",
    "\n",
    "Resultado esperado: Año bisiesto \n",
    "\n",
    "Entrada de muestra: 1580\n",
    "\n",
    "Resultado esperado: No dentro del período del calendario gregoriano "
   ]
  },
  {
   "cell_type": "code",
   "execution_count": 16,
   "metadata": {},
   "outputs": [],
   "source": [
    "def tipo_anio(anio):\n",
    "    if anio <1582:\n",
    "        print(\"No dentro del período del calendario gregoriano\")\n",
    "    elif (anio % 4) != 0:\n",
    "        print(\"Año común\")\n",
    "    elif (anio % 100) != 0:\n",
    "        print(\"Año bisiesto\")\n",
    "    elif (anio % 400) != 0:\n",
    "        print(\"Año común\")\n",
    "    else:\n",
    "        print(\"Año bisiesto\")"
   ]
  },
  {
   "cell_type": "code",
   "execution_count": 17,
   "metadata": {},
   "outputs": [
    {
     "name": "stdout",
     "output_type": "stream",
     "text": [
      "Ingrese el año: 2000\n",
      "Año bisiesto\n"
     ]
    }
   ],
   "source": [
    "anio = int(input(\"Ingrese el año: \"))\n",
    "tipo_anio(anio)"
   ]
  },
  {
   "cell_type": "code",
   "execution_count": 18,
   "metadata": {},
   "outputs": [
    {
     "name": "stdout",
     "output_type": "stream",
     "text": [
      "Ingrese el año: 2015\n",
      "Año común\n"
     ]
    }
   ],
   "source": [
    "anio = int(input(\"Ingrese el año: \"))\n",
    "tipo_anio(anio)"
   ]
  },
  {
   "cell_type": "code",
   "execution_count": 19,
   "metadata": {},
   "outputs": [
    {
     "name": "stdout",
     "output_type": "stream",
     "text": [
      "Ingrese el año: 1999\n",
      "Año común\n"
     ]
    }
   ],
   "source": [
    "anio = int(input(\"Ingrese el año: \"))\n",
    "tipo_anio(anio)"
   ]
  },
  {
   "cell_type": "code",
   "execution_count": 20,
   "metadata": {},
   "outputs": [
    {
     "name": "stdout",
     "output_type": "stream",
     "text": [
      "Ingrese el año: 1996\n",
      "Año bisiesto\n"
     ]
    }
   ],
   "source": [
    "anio = int(input(\"Ingrese el año: \"))\n",
    "tipo_anio(anio)"
   ]
  },
  {
   "cell_type": "code",
   "execution_count": 21,
   "metadata": {},
   "outputs": [
    {
     "name": "stdout",
     "output_type": "stream",
     "text": [
      "Ingrese el año: 1580\n",
      "No dentro del período del calendario gregoriano\n"
     ]
    }
   ],
   "source": [
    "anio = int(input(\"Ingrese el año: \"))\n",
    "tipo_anio(anio)"
   ]
  },
  {
   "cell_type": "code",
   "execution_count": null,
   "metadata": {},
   "outputs": [],
   "source": []
  }
 ],
 "metadata": {
  "kernelspec": {
   "display_name": "Python 3",
   "language": "python",
   "name": "python3"
  },
  "language_info": {
   "codemirror_mode": {
    "name": "ipython",
    "version": 3
   },
   "file_extension": ".py",
   "mimetype": "text/x-python",
   "name": "python",
   "nbconvert_exporter": "python",
   "pygments_lexer": "ipython3",
   "version": "3.8.3"
  }
 },
 "nbformat": 4,
 "nbformat_minor": 4
}
