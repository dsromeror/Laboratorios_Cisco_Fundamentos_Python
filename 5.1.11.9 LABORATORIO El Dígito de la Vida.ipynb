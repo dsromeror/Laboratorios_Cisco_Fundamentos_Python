{
 "cells": [
  {
   "cell_type": "markdown",
   "metadata": {},
   "source": [
    "5.1.11.9 LABORATORIO: El Dígito de la Vida"
   ]
  },
  {
   "cell_type": "markdown",
   "metadata": {},
   "source": [
    "Tiempo Estimado\n",
    "\n",
    "10-15 minutos\n",
    "\n",
    "Nivel de Dificultad\n",
    "\n",
    "Fácil\n",
    "\n",
    "Objetivos\n",
    "\n",
    "    Mejorar las habilidades del alumno para trabajar con cadenas.\n",
    "    Convertir enteros en cadenas, y viceversa.\n",
    "\n",
    "Escenario\n",
    "\n",
    "Algunos dicen que el Dígito de la Vida es un dígito calculado usando el cumpleaños de alguien. Es simple: solo necesitas sumar todos los dígitos de la fecha. Si el resultado contiene más de un dígito, se debe repetir la suma hasta obtener exactamente un dígito. Por ejemplo:\n",
    "\n",
    "    1 Enero 2017 = 2017 01 01\n",
    "    2 + 0 + 1 + 7 + 0 + 1 + 0 + 1 = 12\n",
    "    1 + 2 = 3\n",
    "\n",
    "3 es el dígito que buscamos y encontramos.\n",
    "\n",
    "Tu tarea es escribir un programa que:\n",
    "\n",
    "    Le pregunta al usuario su cumpleaños (en el formato AAAAMMDD o AAAADMM o MMDDAAAA; en realidad, el orden de los dígitos no importa).\n",
    "    Da como salida El Dígito de la Vida para la fecha ingresada.\n",
    "\n",
    "Prueba tu código utilizando los datos que te proporcionamos.\n",
    "Datos de Prueba\n",
    "\n",
    "Entrada de Ejemplo:\n",
    "19991229\n",
    "\n",
    "Salida del Ejemplo:\n",
    "6\n",
    "\n",
    "Entrada de Ejemplo:\n",
    "20000101\n",
    "\n",
    "Salida del Ejemplo:\n",
    "4"
   ]
  },
  {
   "cell_type": "code",
   "execution_count": 32,
   "metadata": {},
   "outputs": [],
   "source": [
    "def sumaNacimiento(fecha):\n",
    "    listFecha = list(fecha)\n",
    "    sumaFecha = 0\n",
    "    \n",
    "    for i in listFecha:\n",
    "        sumaFecha += int(i)\n",
    "        \n",
    "    sumaFechaF = list(str(sumaFecha))\n",
    "    sumaFecha = 0\n",
    "    \n",
    "    for j in sumaFechaF:\n",
    "        sumaFecha += int(j)\n",
    "        \n",
    "    return sumaFecha"
   ]
  },
  {
   "cell_type": "code",
   "execution_count": 33,
   "metadata": {},
   "outputs": [
    {
     "name": "stdout",
     "output_type": "stream",
     "text": [
      "Ingrese la fecha de nacimiento: 19991229\n"
     ]
    },
    {
     "data": {
      "text/plain": [
       "6"
      ]
     },
     "execution_count": 33,
     "metadata": {},
     "output_type": "execute_result"
    }
   ],
   "source": [
    "fecha = input(\"Ingrese la fecha de nacimiento: \")\n",
    "sumaNacimiento(fecha)"
   ]
  },
  {
   "cell_type": "code",
   "execution_count": 34,
   "metadata": {},
   "outputs": [
    {
     "name": "stdout",
     "output_type": "stream",
     "text": [
      "Ingrese la fecha de nacimiento: 20000101\n"
     ]
    },
    {
     "data": {
      "text/plain": [
       "4"
      ]
     },
     "execution_count": 34,
     "metadata": {},
     "output_type": "execute_result"
    }
   ],
   "source": [
    "fecha = input(\"Ingrese la fecha de nacimiento: \")\n",
    "sumaNacimiento(fecha)"
   ]
  }
 ],
 "metadata": {
  "kernelspec": {
   "display_name": "Python 3",
   "language": "python",
   "name": "python3"
  },
  "language_info": {
   "codemirror_mode": {
    "name": "ipython",
    "version": 3
   },
   "file_extension": ".py",
   "mimetype": "text/x-python",
   "name": "python",
   "nbconvert_exporter": "python",
   "pygments_lexer": "ipython3",
   "version": "3.8.3"
  }
 },
 "nbformat": 4,
 "nbformat_minor": 4
}
