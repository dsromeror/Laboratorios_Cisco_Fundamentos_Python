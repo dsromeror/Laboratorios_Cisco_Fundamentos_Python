{
 "cells": [
  {
   "cell_type": "markdown",
   "metadata": {},
   "source": [
    "3.1.2.14 LABORATORIO: Lo fundamental del ciclo while"
   ]
  },
  {
   "attachments": {
    "imagen.png": {
     "image/png": "[encoded data removed]"
    }
   },
   "cell_type": "markdown",
   "metadata": {},
   "source": [
    "Tiempo estimado\n",
    "\n",
    "20-30 minutos\n",
    "Nivel de dificultad\n",
    "\n",
    "Medio\n",
    "\n",
    "Objetivos\n",
    "\n",
    "Familiarizar al estudiante con:\n",
    "\n",
    "    Utilizar el ciclo while.\n",
    "    Encontrar la implementación adecuada de reglas definidas verbalmente.\n",
    "    Reflejar situaciones de la vida real en código de computadora.\n",
    "\n",
    "Escenario\n",
    "\n",
    "Escucha esta historia: Un niño y su padre, un programador de computadoras, juegan con bloques de madera. Están construyendo una pirámide.\n",
    "\n",
    "Su pirámide es un poco rara, ya que en realidad es una pared en forma de pirámide, es plana. La pirámide se apila de acuerdo con un principio simple: cada capa inferior contiene un bloque más que la capa superior.\n",
    "\n",
    "La figura ilustra la regla utilizada por los constructores:\n",
    "\n",
    "![imagen.png](attachment:imagen.png)\n",
    "\n",
    "Tu tarea es escribir un programa que lea la cantidad de bloques que tienen los constructores, y generar la altura de la pirámide que se puede construir utilizando estos bloques.\n",
    "\n",
    "Nota: La altura se mide por el número de capas completas: si los constructores no tienen la cantidad suficiente de bloques y no pueden completar la siguiente capa, terminan su trabajo inmediatamente.\n",
    "\n",
    "Prueba tu código con los datos que hemos proporcionado.\n",
    "\n",
    "Datos de prueba\n",
    "\n",
    "Entrada de muestra: 6\n",
    "\n",
    "Producto esperado: La altura de la pirámide es: 3\n",
    "\n",
    "Entrada de muestra: 20\n",
    "\n",
    "Salida esperada: La altura de la pirámide es: 5\n",
    "\n",
    "Entrada de muestra: 1000\n",
    "\n",
    "Resultado esperado: La altura de la pirámide es: 44\n",
    "\n",
    "Entrada de muestra: 2\n",
    "\n",
    "Salida esperada: La altura de la pirámide es: 1"
   ]
  },
  {
   "cell_type": "code",
   "execution_count": 7,
   "metadata": {},
   "outputs": [],
   "source": [
    "def piramide(bloques):\n",
    "    capa = 0\n",
    "    sumabloques = 1\n",
    "    \n",
    "    while sumabloques <= bloques:\n",
    "        capa += 1\n",
    "        bloques -= sumabloques\n",
    "        sumabloques += 1\n",
    "        \n",
    "    print (\"La alturra de la pirámeide:\", capa)"
   ]
  },
  {
   "cell_type": "code",
   "execution_count": 8,
   "metadata": {},
   "outputs": [
    {
     "name": "stdout",
     "output_type": "stream",
     "text": [
      "Ingrese el número de bloques: 6\n",
      "La alturra de la pirámeide: 3\n"
     ]
    }
   ],
   "source": [
    "bloques = int(input(\"Ingrese el número de bloques: \"))\n",
    "piramide(bloques)"
   ]
  },
  {
   "cell_type": "code",
   "execution_count": 9,
   "metadata": {},
   "outputs": [
    {
     "name": "stdout",
     "output_type": "stream",
     "text": [
      "Ingrese el número de bloques: 20\n",
      "La alturra de la pirámeide: 5\n"
     ]
    }
   ],
   "source": [
    "bloques = int(input(\"Ingrese el número de bloques: \"))\n",
    "piramide(bloques)"
   ]
  },
  {
   "cell_type": "code",
   "execution_count": 10,
   "metadata": {},
   "outputs": [
    {
     "name": "stdout",
     "output_type": "stream",
     "text": [
      "Ingrese el número de bloques: 1000\n",
      "La alturra de la pirámeide: 44\n"
     ]
    }
   ],
   "source": [
    "bloques = int(input(\"Ingrese el número de bloques: \"))\n",
    "piramide(bloques)"
   ]
  },
  {
   "cell_type": "code",
   "execution_count": 11,
   "metadata": {},
   "outputs": [
    {
     "name": "stdout",
     "output_type": "stream",
     "text": [
      "Ingrese el número de bloques: 2\n",
      "La alturra de la pirámeide: 1\n"
     ]
    }
   ],
   "source": [
    "bloques = int(input(\"Ingrese el número de bloques: \"))\n",
    "piramide(bloques)"
   ]
  }
 ],
 "metadata": {
  "kernelspec": {
   "display_name": "Python 3",
   "language": "python",
   "name": "python3"
  },
  "language_info": {
   "codemirror_mode": {
    "name": "ipython",
    "version": 3
   },
   "file_extension": ".py",
   "mimetype": "text/x-python",
   "name": "python",
   "nbconvert_exporter": "python",
   "pygments_lexer": "ipython3",
   "version": "3.8.3"
  }
 },
 "nbformat": 4,
 "nbformat_minor": 4
}
