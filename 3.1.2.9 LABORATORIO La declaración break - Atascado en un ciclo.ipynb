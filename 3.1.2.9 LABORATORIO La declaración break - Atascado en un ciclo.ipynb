{
 "cells": [
  {
   "cell_type": "markdown",
   "metadata": {},
   "source": [
    " 3.1.2.9 LABORATORIO: La declaración break - Atascado en un ciclo"
   ]
  },
  {
   "cell_type": "markdown",
   "metadata": {},
   "source": [
    " Tiempo estimado\n",
    "\n",
    "10 minutos\n",
    "Nivel de dificultad\n",
    "\n",
    "Fácil\n",
    "Objetivos\n",
    "\n",
    "Familiarizar al estudiante con:\n",
    "\n",
    "    Utilizar la instrucción break en los ciclos.\n",
    "    Reflejar situaciones de la vida real en código de computadora.\n",
    "\n",
    "Escenario\n",
    "\n",
    "La instrucción break se usa para salir/terminar un ciclo.\n",
    "\n",
    "Diseña un programa que use un ciclo while y le pida continuamente al usuario que ingrese una palabra a menos que ingrese \"chupacabra\" como la palabra de salida secreta, en cuyo caso el mensaje \"¡Has dejado el ciclo con éxito\". Debe imprimirse en la pantalla y el ciclo debe terminar.\n",
    "\n",
    "No imprimas ninguna de las palabras ingresadas por el usuario. Utiliza el concepto de ejecución condicional y la declaración break. "
   ]
  },
  {
   "cell_type": "code",
   "execution_count": 4,
   "metadata": {},
   "outputs": [],
   "source": [
    "def atasco():\n",
    "    palabraSecreta = \"chupacabra\"\n",
    "    palabra = input(\"Ingrese la palabra: \")\n",
    "    while palabra != palabraSecreta:\n",
    "        if palabra == palabraSecreta:\n",
    "            break\n",
    "        else:\n",
    "            palabra = input(\"Ingrese la palabra: \")\n",
    "    print(\"¡Has dejado el ciclo con éxito\")"
   ]
  },
  {
   "cell_type": "code",
   "execution_count": 5,
   "metadata": {},
   "outputs": [
    {
     "name": "stdout",
     "output_type": "stream",
     "text": [
      "Ingrese la palabra: dssda\n",
      "Ingrese la palabra: chupacabra\n",
      "¡Has dejado el ciclo con éxito\n"
     ]
    }
   ],
   "source": [
    "atasco()"
   ]
  },
  {
   "cell_type": "code",
   "execution_count": null,
   "metadata": {},
   "outputs": [],
   "source": []
  }
 ],
 "metadata": {
  "kernelspec": {
   "display_name": "Python 3",
   "language": "python",
   "name": "python3"
  },
  "language_info": {
   "codemirror_mode": {
    "name": "ipython",
    "version": 3
   },
   "file_extension": ".py",
   "mimetype": "text/x-python",
   "name": "python",
   "nbconvert_exporter": "python",
   "pygments_lexer": "ipython3",
   "version": "3.8.3"
  }
 },
 "nbformat": 4,
 "nbformat_minor": 4
}
