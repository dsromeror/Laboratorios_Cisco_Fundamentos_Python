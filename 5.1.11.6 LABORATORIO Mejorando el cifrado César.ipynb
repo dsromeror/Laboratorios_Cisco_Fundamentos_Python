{
 "cells": [
  {
   "cell_type": "markdown",
   "metadata": {},
   "source": [
    " 5.1.11.6 LABORATORIO: Mejorando el cifrado César"
   ]
  },
  {
   "cell_type": "markdown",
   "metadata": {},
   "source": [
    "Tiempo Estimado\n",
    "\n",
    "30-45 minutos\n",
    "\n",
    "Nivel de Dificultad\n",
    "\n",
    "Difícil\n",
    "\n",
    "Prerrequisitos\n",
    "\n",
    "Módulo 5.1.11.1, Módulo 5.1.11.2\n",
    "\n",
    "Objetivos\n",
    "\n",
    "    Mejorar las habilidades del alumno para manipular cadenas.\n",
    "    Convertir caracteres en código ASCII y viceversa.\n",
    "\n",
    "Escenario\n",
    "\n",
    "Ya estás familiarizado con el cifrado César, y es por eso que queremos que mejores el código que te mostramos recientemente.\n",
    "\n",
    "El cifrado César original cambia cada caracter por otro a se convierte en b, z se convierte en a, y así sucesivamente. Hagámoslo un poco más difícil y permitamos que el valor desplazado provenga del rango 1 al 25.\n",
    "\n",
    "Además, dejemos que el código conserve las mayúsculas y minúsculas (las minúsculas permanecerán en minúsculas) y todos los caracteres no alfabéticos deben permanecer intactos.\n",
    "\n",
    "Tu tarea es escribir un programa el cual:\n",
    "\n",
    "    Le pida al usuario una línea de texto para encriptar.\n",
    "    Le pida al usuario un valor de cambio (un número entero del rango 1 al 25, nota: debes obligar al usuario a ingresar un valor de cambio válido (¡no te rindas y no dejes que los datos incorrectos te engañen!).\n",
    "    Imprime el texto codificado.\n",
    "\n",
    "Prueba tu código utilizando los datos que te proporcionamos.\n",
    "Datos de Prueba\n",
    "\n",
    "Entrada Muestra:\n",
    "abcxyzABCxyz 123\n",
    "2\n",
    "\n",
    "Salida Muestra:\n",
    "cdezabCDEzab 123\n",
    "\n",
    "Entrada Muestra:\n",
    "The die is cast\n",
    "25\n",
    "\n",
    "Salida Muestra:\n",
    "Sgd chd hr bzrs"
   ]
  },
  {
   "cell_type": "code",
   "execution_count": 23,
   "metadata": {},
   "outputs": [],
   "source": [
    "def cifrado(texto, desplazar):\n",
    "    cifradoFinal = ''\n",
    "    \n",
    "    for letra in texto:\n",
    "        if 65<=ord(letra)<=90:\n",
    "            if ord(letra)+desplazar<=90:\n",
    "                cifradoFinal += str(chr(ord(letra)+desplazar))\n",
    "            else:\n",
    "                cifradoFinal += str(chr(((ord(letra)+desplazar)%90)+64))\n",
    "        elif 97<=ord(letra)<=122:\n",
    "            if ord(letra)+desplazar<=122:\n",
    "                cifradoFinal += str(chr(ord(letra)+desplazar))\n",
    "            else:\n",
    "                cifradoFinal += str(chr(((ord(letra)+desplazar)%122)+96))\n",
    "        else:\n",
    "            cifradoFinal += letra\n",
    "    \n",
    "    print (cifradoFinal)\n",
    "    \n",
    "def desplazamiento(valorDesplazamiento, min, max):\n",
    "        try:\n",
    "            valorDesplazamiento = int(input(\"Ingrese el desplazamiento de 1 a 25: \"),1,25)\n",
    "            if valorDesplazamiento < min or valorDesplazamiento > max:\n",
    "                print(\"¡no te rindas y no dejes que los datos incorrectos te engañen!\")\n",
    "                return desplazamiento(print(\"Ingrese el desplazamiento de 1 a 25: \"), 1, 25)\n",
    "        except ValueError:\n",
    "            print(\"Error: entrada incorrecta\")\n",
    "            return valorDesplazamiento(print(\"Ingrese el desplazamiento de 1 a 25: \", end=''), 1, 25)\n",
    "        else:\n",
    "            return valorDesplazamiento"
   ]
  },
  {
   "cell_type": "code",
   "execution_count": 21,
   "metadata": {},
   "outputs": [
    {
     "name": "stdout",
     "output_type": "stream",
     "text": [
      "Ingrese el texto que quiere cifrar: abcxyzABCxyz 123\n",
      "Ingrese el desplazamiento de 1 a 25: 2\n",
      "cdezabCDEzab 123\n"
     ]
    }
   ],
   "source": [
    "texto = input(\"Ingrese el texto que quiere cifrar: \")\n",
    "desplazar =int(input(\"Ingrese el desplazamiento de 1 a 25: \"))\n",
    "\n",
    "cifrado(texto, desplazar)"
   ]
  },
  {
   "cell_type": "code",
   "execution_count": 24,
   "metadata": {},
   "outputs": [
    {
     "name": "stdout",
     "output_type": "stream",
     "text": [
      "Ingrese el texto que quiere cifrar: The die is cast\n",
      "Ingrese el desplazamiento de 1 a 25: 25\n",
      "Sgd chd hr bzrs\n"
     ]
    }
   ],
   "source": [
    "texto = input(\"Ingrese el texto que quiere cifrar: \")\n",
    "desplazar =int(input(\"Ingrese el desplazamiento de 1 a 25: \"))\n",
    "\n",
    "cifrado(texto, desplazar)"
   ]
  }
 ],
 "metadata": {
  "kernelspec": {
   "display_name": "Python 3",
   "language": "python",
   "name": "python3"
  },
  "language_info": {
   "codemirror_mode": {
    "name": "ipython",
    "version": 3
   },
   "file_extension": ".py",
   "mimetype": "text/x-python",
   "name": "python",
   "nbconvert_exporter": "python",
   "pygments_lexer": "ipython3",
   "version": "3.8.3"
  }
 },
 "nbformat": 4,
 "nbformat_minor": 4
}
