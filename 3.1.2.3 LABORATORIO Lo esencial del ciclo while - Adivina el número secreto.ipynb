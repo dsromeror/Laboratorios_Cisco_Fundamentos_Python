{
 "cells": [
  {
   "cell_type": "markdown",
   "metadata": {},
   "source": [
    "3.1.2.3 LABORATORIO: Lo esencial del ciclo while - Adivina el número secreto"
   ]
  },
  {
   "cell_type": "markdown",
   "metadata": {},
   "source": [
    " Tiempo estimado\n",
    "\n",
    "15 minutos\n",
    "Nivel de dificultad\n",
    "\n",
    "Fácil\n",
    "\n",
    "Objetivos\n",
    "\n",
    "Familiarizar al estudiante con:\n",
    "\n",
    "    Utilizar el ciclo while.\n",
    "    Reflejar situaciones de la vida real en código de computadora.\n",
    "\n",
    "Escenario\n",
    "\n",
    "Un mago junior ha elegido un número secreto. Lo ha escondido en una variable llamada númeroSecreto. Quiere que todos los que ejecutan su programa jueguen el juego Adivina el número secreto, y adivina qué número ha elegido para ellos. ¡Quienes no adivinen el número quedarán atrapados en un ciclo sin fin para siempre! Desafortunadamente, él no sabe cómo completar el código.\n",
    "\n",
    "Tu tarea es ayudar al mago a completar el código en el editor de tal manera que el código:\n",
    "\n",
    "    Pedirá al usuario que ingrese un número entero.\n",
    "    Utilizará un ciclo while.\n",
    "    Comprobará si el número ingresado por el usuario es el mismo que el número escogido por el mago. Si el número elegido por el usuario es diferente al número secreto del mago, el usuario debería ver el mensaje \"¡Ja, ja! ¡Estás atrapado en mi ciclo!\" y se le solicitará que ingrese un número nuevamente. Si el número ingresado por el usuario coincide con el número escogido por el mago, el número debe imprimirse en la pantalla, y el mago debe decir las siguientes palabras: \"¡Bien hecho, muggle! Eres libre ahora\".\n",
    "\n",
    "¡El mago está contando contigo! No lo decepciones.\n",
    "\n",
    "INFO EXTRA\n",
    "\n",
    "Por cierto, mira la función print(). La forma en que lo hemos utilizado aquí se llama impresión multilínea . Puede utilizar comillas triples para imprimir cadenas en varias líneas para facilitar la lectura del texto o crear un diseño especial basado en texto. Experimenta con ello. "
   ]
  },
  {
   "cell_type": "code",
   "execution_count": 8,
   "metadata": {},
   "outputs": [],
   "source": [
    "def secret():\n",
    "    \n",
    "    numero = int(input(\"Ingresa el número secreto: \"))\n",
    "    numeroSecreto = 777\n",
    "    \n",
    "    while numero != numeroSecreto:\n",
    "        if numero != numeroSecreto:\n",
    "            print(\"¡Ja, ja! ¡Estás atrapado en mi ciclo!\")\n",
    "            numero = int(input(\"Ingresa el número secreto: \"))\n",
    "    \n",
    "    print(\"¡Bien hecho, muggle! Eres libre ahora\")"
   ]
  },
  {
   "cell_type": "code",
   "execution_count": 9,
   "metadata": {},
   "outputs": [
    {
     "name": "stdout",
     "output_type": "stream",
     "text": [
      "\n",
      "+==================================+\n",
      "| Bienvenido a mi juego, muggle!   |\n",
      "| Introduce un número entero       |\n",
      "| y adivina qué número he          |\n",
      "| elegido para ti.                 |\n",
      "| Entonces,                        |\n",
      "| ¿Cuál es el número secreto?      |\n",
      "+==================================+\n",
      "\n",
      "Ingresa el número secreto: 45\n",
      "¡Ja, ja! ¡Estás atrapado en mi ciclo!\n",
      "Ingresa el número secreto: 58\n",
      "¡Ja, ja! ¡Estás atrapado en mi ciclo!\n",
      "Ingresa el número secreto: 777\n",
      "¡Bien hecho, muggle! Eres libre ahora\n"
     ]
    }
   ],
   "source": [
    "print(\n",
    "\"\"\"\n",
    "+==================================+\n",
    "| Bienvenido a mi juego, muggle!   |\n",
    "| Introduce un número entero       |\n",
    "| y adivina qué número he          |\n",
    "| elegido para ti.                 |\n",
    "| Entonces,                        |\n",
    "| ¿Cuál es el número secreto?      |\n",
    "+==================================+\n",
    "\"\"\")\n",
    "secret()"
   ]
  }
 ],
 "metadata": {
  "kernelspec": {
   "display_name": "Python 3",
   "language": "python",
   "name": "python3"
  },
  "language_info": {
   "codemirror_mode": {
    "name": "ipython",
    "version": 3
   },
   "file_extension": ".py",
   "mimetype": "text/x-python",
   "name": "python",
   "nbconvert_exporter": "python",
   "pygments_lexer": "ipython3",
   "version": "3.8.3"
  }
 },
 "nbformat": 4,
 "nbformat_minor": 4
}
