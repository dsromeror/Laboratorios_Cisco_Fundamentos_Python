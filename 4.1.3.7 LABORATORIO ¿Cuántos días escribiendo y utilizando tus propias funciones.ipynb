{
 "cells": [
  {
   "cell_type": "markdown",
   "metadata": {},
   "source": [
    " 4.1.3.7 LABORATORIO: ¿Cuántos días?: escribiendo y utilizando tus propias funciones"
   ]
  },
  {
   "cell_type": "markdown",
   "metadata": {},
   "source": [
    "Tiempo estimado\n",
    "\n",
    "15-20 minutos\n",
    "\n",
    "Nivel de dificultad\n",
    "\n",
    "Medio\n",
    "\n",
    "Requisitos previos\n",
    "\n",
    "LABORATORIO 4.1.3.6\n",
    "Objetivos\n",
    "\n",
    "Familiarizar al estudiante con:\n",
    "\n",
    "    Proyectar y escribir funciones parametrizadas.\n",
    "    Utilizar la sentencia return.\n",
    "    Utilizar las funciones propias del estudiante.\n",
    "\n",
    "Escenario\n",
    "\n",
    "Tu tarea es escribir y probar una función que toma dos argumentos (un año y un mes) y devuelve el número de días del mes/año dado (mientras que solo febrero es sensible al valor year, tu función debería ser universal).\n",
    "\n",
    "La parte inicial de la función está lista. Ahora, haz que la función devuelva None si los argumentos no tienen sentido.\n",
    "\n",
    "Por supuesto, puedes (y debes) utilizar la función previamente escrita y probada (LAB 4.1.3.6). Puede ser muy útil. Te recomendamos que utilices una lista con los meses. Puedea crearla dentro de la función; este truco acortará significativamente el código.\n",
    "\n",
    "Hemos preparado un código de prueba. Amplíalo para incluir más casos de prueba."
   ]
  },
  {
   "cell_type": "code",
   "execution_count": 2,
   "metadata": {},
   "outputs": [
    {
     "name": "stdout",
     "output_type": "stream",
     "text": [
      "1900 2 ->OK\n",
      "2000 2 ->OK\n",
      "2016 1 ->OK\n",
      "1987 11 ->OK\n"
     ]
    }
   ],
   "source": [
    "def isYearLeap(year):\n",
    "    if (year % 4) != 0:\n",
    "        return False\n",
    "    elif (year % 100) != 0:\n",
    "        return True\n",
    "    elif (year % 400) != 0:\n",
    "        return False\n",
    "    else:\n",
    "        return True\n",
    "\n",
    "def daysInMonth(year, month):\n",
    "    months = [31,28,31,30,31,30,31,31,30,31,30,31]\n",
    "    \n",
    "    if isYearLeap(year)==True and month==2:\n",
    "        return 29\n",
    "    else:\n",
    "        return months[month-1]\n",
    "\n",
    "testYears = [1900, 2000, 2016, 1987]\n",
    "testMonths = [2, 2, 1, 11]\n",
    "testResults = [28, 29, 31, 30]\n",
    "for i in range(len(testYears)):\n",
    "    yr = testYears[i]\n",
    "    mo = testMonths[i]\n",
    "    print(yr, mo, \"->\", end=\"\")\n",
    "    result = daysInMonth(yr, mo)\n",
    "    if result == testResults[i]:\n",
    "        print(\"OK\")\n",
    "    else:\n",
    "        print(\"Error\")"
   ]
  }
 ],
 "metadata": {
  "kernelspec": {
   "display_name": "Python 3",
   "language": "python",
   "name": "python3"
  },
  "language_info": {
   "codemirror_mode": {
    "name": "ipython",
    "version": 3
   },
   "file_extension": ".py",
   "mimetype": "text/x-python",
   "name": "python",
   "nbconvert_exporter": "python",
   "pygments_lexer": "ipython3",
   "version": "3.8.3"
  }
 },
 "nbformat": 4,
 "nbformat_minor": 4
}
