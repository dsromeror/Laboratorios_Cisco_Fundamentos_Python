{
 "cells": [
  {
   "cell_type": "markdown",
   "metadata": {},
   "source": [
    " 4.1.3.9 LABORATORIO: Números primos: ¿Cómo encontrarlos?"
   ]
  },
  {
   "cell_type": "markdown",
   "metadata": {},
   "source": [
    "Tiempo estimado\n",
    "\n",
    "15-20 minutos\n",
    "\n",
    "Nivel de dificultad\n",
    "\n",
    "Medio\n",
    "\n",
    "Objetivos\n",
    "\n",
    "    Familiarizar al estudiante con nociones y algoritmos clásicos.\n",
    "    Mejorar las habilidades del estudiante para definir y usar funciones.\n",
    "\n",
    "Escenario\n",
    "\n",
    "Un número natural es primo si es mayor que 1 y no tiene divisores más que 1 y si mismo.\n",
    "\n",
    "¿Complicado? De ningúna manera. Por ejemplo, 8 no es un número primo, ya que puedes dividirlo entre 2 y 4 (no podemos usar divisores iguales a 1 y 8, ya que la definición lo prohíbe).\n",
    "\n",
    "Por otra parte, 7 es un número primo, ya que no podemos encontrar ningún divisor para el.\n",
    "\n",
    "Tu tarea es escribir una función que verifique si un número es primo o no.\n",
    "\n",
    "La función:\n",
    "\n",
    "    Se llama isPrime.\n",
    "    Toma un argumento (el valor a verificar).\n",
    "    Devuelve True si el argumento es un número primo, y False de lo contrario.\n",
    "\n",
    "Sugerencia: intenta dividir el argumento por todos los valores posteriores (comenzando desde 2) y verifica el resto: si es cero, tu número no puede ser un número primo; analiza cuidadosamente cuándo deberías detener el proceso.\n",
    "\n",
    "Si necesitas conocer la raíz cuadrada de cualquier valor, puedes utilizar el operador **. Recuerda: la raíz cuadrada de x es la misma que x0.5\n",
    "\n",
    "Complementa el código en el editor.\n",
    "\n",
    "Ejecuta tu código y verifica si tu salida es la misma que la nuestra.\n",
    "Datos de prueba\n",
    "\n",
    "Salida esperada:\n",
    "2 3 5 7 11 13 17 19"
   ]
  },
  {
   "cell_type": "code",
   "execution_count": 17,
   "metadata": {},
   "outputs": [
    {
     "name": "stdout",
     "output_type": "stream",
     "text": [
      "3 5 7 9 11 13 15 17 19 \n"
     ]
    }
   ],
   "source": [
    "def isPrime(num):\n",
    "    div = 2\n",
    "    while div<=num:\n",
    "        if num % div != 0:\n",
    "            div+=1\n",
    "            return num\n",
    "        else:\n",
    "            return False\n",
    "    \n",
    "for i in range(1, 20):\n",
    "    if isPrime(i + 1):\n",
    "        print(i + 1, end=\" \")\n",
    "print()"
   ]
  },
  {
   "cell_type": "code",
   "execution_count": null,
   "metadata": {},
   "outputs": [],
   "source": []
  }
 ],
 "metadata": {
  "kernelspec": {
   "display_name": "Python 3",
   "language": "python",
   "name": "python3"
  },
  "language_info": {
   "codemirror_mode": {
    "name": "ipython",
    "version": 3
   },
   "file_extension": ".py",
   "mimetype": "text/x-python",
   "name": "python",
   "nbconvert_exporter": "python",
   "pygments_lexer": "ipython3",
   "version": "3.8.3"
  }
 },
 "nbformat": 4,
 "nbformat_minor": 4
}
