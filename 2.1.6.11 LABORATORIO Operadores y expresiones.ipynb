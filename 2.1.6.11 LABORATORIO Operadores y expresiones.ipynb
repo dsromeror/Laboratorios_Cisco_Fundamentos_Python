{
 "cells": [
  {
   "cell_type": "markdown",
   "metadata": {},
   "source": [
    "2.1.6.11 LABORATORIO: Operadores y expresiones"
   ]
  },
  {
   "cell_type": "markdown",
   "metadata": {},
   "source": [
    "Tiempo estimado\n",
    "\n",
    "15-20 minutos\n",
    "Nivel de dificultad\n",
    "\n",
    "Fácil\n",
    "Objetivos\n",
    "\n",
    "    Mejorar la habilidad de implementar números, operadores y operaciones aritméticas en Python.\n",
    "    Utilizar la función print() y sus capacidades de formateo.\n",
    "    Aprender a expresar fenómenos del día a día en términos de un lenguaje de programación.\n",
    "\n",
    "Escenario\n",
    "\n",
    "La tarea es preparar un código simple para evaluar o encontrar el tiempo final de un periodo de tiempo dado, expresándolo en horas y minutos. Las horas van de 0 a 23 y los minutes de 0 a 59. El resultado debe ser mostrado en la consola.\n",
    "\n",
    "Por ejemplo, si el evento comienza a las 12:17 y dura 59 minutos, terminará a las 13:16.\n",
    "\n",
    "No te preocupes si tu código no es perfecto, está bien si acepta una hora invalida, lo más importante es que el código produzca una salida correcta acorde a la entrada dada.\n",
    "\n",
    "Prueba el código cuidadosamente. Pista: utilizar el operador % puede ser clave para el éxito.\n",
    "Datos de Prueba\n",
    "\n",
    "Entrada de muestra:\n",
    "12\n",
    "17\n",
    "59\n",
    "\n",
    "Salida esperada: 13:16\n",
    "\n",
    "Entrada de muestra:\n",
    "23\n",
    "58\n",
    "642\n",
    "\n",
    "Salida esperada: 10:40\n",
    "\n",
    "Entrada de muestra:\n",
    "0\n",
    "1\n",
    "2939\n",
    "\n",
    "Salida esperada: 1:0"
   ]
  },
  {
   "cell_type": "code",
   "execution_count": 1,
   "metadata": {},
   "outputs": [],
   "source": [
    "def horario(entrada):\n",
    "    \n",
    "    h = int(entrada.split(\" \")[0])\n",
    "    m = int(entrada.split(\" \")[1])\n",
    "    d = int(entrada.split(\" \")[2])\n",
    "    \n",
    "    minutos = str((m+d)%60) \n",
    "    horas = str(((h*60+m+d)//60)%24)\n",
    "    \n",
    "    salida = print(horas +\":\" +minutos)\n",
    "    \n",
    "    return salida"
   ]
  },
  {
   "cell_type": "code",
   "execution_count": 2,
   "metadata": {},
   "outputs": [
    {
     "name": "stdout",
     "output_type": "stream",
     "text": [
      "Ingrese los datos de prueba: 12 17 59\n",
      "13:16\n"
     ]
    }
   ],
   "source": [
    "entrada = input(\"Ingrese los datos de prueba: \")\n",
    "\n",
    "horario(entrada)"
   ]
  },
  {
   "cell_type": "code",
   "execution_count": 3,
   "metadata": {},
   "outputs": [
    {
     "name": "stdout",
     "output_type": "stream",
     "text": [
      "Ingrese los datos de prueba: 23 58 642\n",
      "10:40\n"
     ]
    }
   ],
   "source": [
    "entrada = input(\"Ingrese los datos de prueba: \")\n",
    "\n",
    "horario(entrada)"
   ]
  },
  {
   "cell_type": "code",
   "execution_count": 4,
   "metadata": {},
   "outputs": [
    {
     "name": "stdout",
     "output_type": "stream",
     "text": [
      "Ingrese los datos de prueba: 0 1 2939\n",
      "1:0\n"
     ]
    }
   ],
   "source": [
    "entrada = input(\"Ingrese los datos de prueba: \")\n",
    "\n",
    "horario(entrada)"
   ]
  }
 ],
 "metadata": {
  "kernelspec": {
   "display_name": "Python 3",
   "language": "python",
   "name": "python3"
  },
  "language_info": {
   "codemirror_mode": {
    "name": "ipython",
    "version": 3
   },
   "file_extension": ".py",
   "mimetype": "text/x-python",
   "name": "python",
   "nbconvert_exporter": "python",
   "pygments_lexer": "ipython3",
   "version": "3.8.3"
  }
 },
 "nbformat": 4,
 "nbformat_minor": 4
}
