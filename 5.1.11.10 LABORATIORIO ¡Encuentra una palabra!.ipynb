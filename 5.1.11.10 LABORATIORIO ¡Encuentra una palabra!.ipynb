{
 "cells": [
  {
   "cell_type": "markdown",
   "metadata": {},
   "source": [
    "5.1.11.10 LABORATIORIO: ¡Encuentra una palabra!"
   ]
  },
  {
   "cell_type": "markdown",
   "metadata": {},
   "source": [
    "Tiempo Estimado\n",
    "\n",
    "15-20 minutos\n",
    "\n",
    "Nivel de Dificultad\n",
    "\n",
    "Medio\n",
    "\n",
    "Objetivos\n",
    "\n",
    "    Mejorar las habilidades del alumno para trabajar con cadenas.\n",
    "    Emplear el método find() para realizar busquedas dentro de las cadenas.\n",
    "\n",
    "Escenario\n",
    "\n",
    "Vamos a jugar un juego. Le daremos dos cadenas: una es una palabra (por ejemplo, \"dog\") y la segunda es una combinación de un grupo de caracteres.\n",
    "\n",
    "Tu tarea es escribir un programa que responda la siguiente pregunta: ¿Los caracteres que comprenden la primera cadena están ocultos dentro de la segunda cadena?\n",
    "\n",
    "Por ejemplo:\n",
    "\n",
    "    Si la segunda cadena es \"vcxzxduybfdsobywuefgas\", la respuesta es si.\n",
    "    Si la segunda cadena es \"vcxzxdcybfdstbywuefsas\", la respuesta es no (ya que no están las letras \"d\", \"o\", \"g\", ni en ese orden).\n",
    "\n",
    "Consejos:\n",
    "\n",
    "    Debes usar las variantes de dos argumentos de las funciones pos() dentro de tu código.\n",
    "    No te preocupes por mayúsculas y minúsculas.\n",
    "\n",
    "Prueba tu código utilizando los datos que te proporcionamos.\n",
    "Datos de Prueba\n",
    "\n",
    "Entrada de Ejemplo:\n",
    "\n",
    "donor\n",
    "Nabucodonosor\n",
    "\n",
    "Salida del Ejemplo:\n",
    "Si\n",
    "\n",
    "Entrada de Ejemplo:\n",
    "\n",
    "donut\n",
    "Nabucodonosor\n",
    "\n",
    "Salida del Ejemplo:\n",
    "No"
   ]
  },
  {
   "cell_type": "code",
   "execution_count": 27,
   "metadata": {},
   "outputs": [],
   "source": [
    "def encontrarPalabra(primerCadena,segundaCadena):\n",
    "    cadenaUno = list(primerCadena)\n",
    "    cadena = []\n",
    "    \n",
    "    for letra in cadenaUno:\n",
    "        if letra not in segundaCadena:\n",
    "            valor = False\n",
    "            cadena.append(valor)\n",
    "        else:\n",
    "            valor = True\n",
    "            cadena.append(valor)\n",
    "    \n",
    "    if False not in cadena:\n",
    "        print(\"Si\")\n",
    "    else:\n",
    "        print(\"No\")"
   ]
  },
  {
   "cell_type": "code",
   "execution_count": 28,
   "metadata": {},
   "outputs": [
    {
     "name": "stdout",
     "output_type": "stream",
     "text": [
      "Ingrse la primer cardena: donur\n",
      "Ingrese la segunda cadena: Nabucodonosor\n",
      "Si\n"
     ]
    }
   ],
   "source": [
    "primerCadena = input(\"Ingrse la primer cardena: \")\n",
    "segundaCadena = input(\"Ingrese la segunda cadena: \")\n",
    "\n",
    "encontrarPalabra(primerCadena, segundaCadena)"
   ]
  },
  {
   "cell_type": "code",
   "execution_count": 29,
   "metadata": {},
   "outputs": [
    {
     "name": "stdout",
     "output_type": "stream",
     "text": [
      "Ingrse la primer cardena: donut\n",
      "Ingrese la segunda cadena: Nabucodonosor\n",
      "No\n"
     ]
    }
   ],
   "source": [
    "primerCadena = input(\"Ingrse la primer cardena: \")\n",
    "segundaCadena = input(\"Ingrese la segunda cadena: \")\n",
    "\n",
    "encontrarPalabra(primerCadena, segundaCadena)"
   ]
  },
  {
   "cell_type": "code",
   "execution_count": null,
   "metadata": {},
   "outputs": [],
   "source": []
  }
 ],
 "metadata": {
  "kernelspec": {
   "display_name": "Python 3",
   "language": "python",
   "name": "python3"
  },
  "language_info": {
   "codemirror_mode": {
    "name": "ipython",
    "version": 3
   },
   "file_extension": ".py",
   "mimetype": "text/x-python",
   "name": "python",
   "nbconvert_exporter": "python",
   "pygments_lexer": "ipython3",
   "version": "3.8.3"
  }
 },
 "nbformat": 4,
 "nbformat_minor": 4
}
