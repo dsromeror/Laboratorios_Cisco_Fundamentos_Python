{
 "cells": [
  {
   "cell_type": "markdown",
   "metadata": {},
   "source": [
    "5.1.9.18 Tu propio split"
   ]
  },
  {
   "cell_type": "markdown",
   "metadata": {},
   "source": [
    "Tiempo Estimado\n",
    "\n",
    "20-25 minutos\n",
    "\n",
    "Nivel de dificultad\n",
    "\n",
    "Medio\n",
    "\n",
    "Objetivos\n",
    "\n",
    "    Mejorar las habilidades del alumno al trabajar con cadenas.\n",
    "    Utilizar los métodos incorporados de Python para las cadenas.\n",
    "\n",
    "Escenario\n",
    "\n",
    "Ya sabes como funiona el método split(). Ahora queremos que lo pruebes.\n",
    "\n",
    "Tu tarea es escribir tu propia función, que se comporte casi como el método original split(), por ejemplo:\n",
    "\n",
    "    Debe aceptar únicamente un argumento: una cadena.\n",
    "    Debe devolver una lista de palabras creadas a partir de la cadena, dividida en los lugares donde la cadena contiene espacios en blanco.\n",
    "    Si la cadena está vacía, la función debería devolver una lista vacía.\n",
    "    Su nombre debe ser misplit().\n",
    "\n",
    "Usa la plantilla en el editor. Prueba tu código con cuidado.\n",
    "Salida esperada\n",
    "\n",
    "['Ser', 'o', 'no', 'ser', 'esa', 'es,', 'la', 'pregunta']\n",
    "\n",
    "['Ser', 'o', 'no', 'ser,esa', 'es', 'la', 'pregunta']\n",
    "\n",
    "[]\n",
    "\n",
    "['abc']\n",
    "\n",
    "[]"
   ]
  },
  {
   "cell_type": "code",
   "execution_count": 29,
   "metadata": {},
   "outputs": [
    {
     "name": "stdout",
     "output_type": "stream",
     "text": [
      "['Ser', 'o', 'no', 'ser,', 'esa', 'es', 'la', 'pregunta']\n",
      "['Ser', 'o', 'no', 'ser,esa', 'es', 'la', 'pregunta']\n",
      "[]\n",
      "['abc']\n",
      "[]\n"
     ]
    }
   ],
   "source": [
    "def misplit(strng):\n",
    "    salida = []\n",
    "    cadena = str()\n",
    "    for letra in strng:\n",
    "        if letra != ' ':\n",
    "            cadena += letra\n",
    "        else:\n",
    "            if cadena == '':\n",
    "                continue\n",
    "            else:\n",
    "                salida.append(cadena)\n",
    "                cadena = ''\n",
    "                continue\n",
    "    \n",
    "    return salida\n",
    "\n",
    "print(misplit(\"Ser o no ser, esa es la pregunta \"))\n",
    "print(misplit(\"Ser o no ser,esa es la pregunta \"))\n",
    "print(misplit(\"   \"))\n",
    "print(misplit(\" abc \"))\n",
    "print(misplit(\"\"))"
   ]
  }
 ],
 "metadata": {
  "kernelspec": {
   "display_name": "Python 3",
   "language": "python",
   "name": "python3"
  },
  "language_info": {
   "codemirror_mode": {
    "name": "ipython",
    "version": 3
   },
   "file_extension": ".py",
   "mimetype": "text/x-python",
   "name": "python",
   "nbconvert_exporter": "python",
   "pygments_lexer": "ipython3",
   "version": "3.8.3"
  }
 },
 "nbformat": 4,
 "nbformat_minor": 4
}
