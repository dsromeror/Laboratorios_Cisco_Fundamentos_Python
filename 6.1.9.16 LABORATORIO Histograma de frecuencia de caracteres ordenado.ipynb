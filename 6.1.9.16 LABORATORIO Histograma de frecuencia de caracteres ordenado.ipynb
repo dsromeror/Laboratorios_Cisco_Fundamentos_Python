{
 "cells": [
  {
   "cell_type": "markdown",
   "metadata": {},
   "source": [
    " 6.1.9.16 LABORATORIO: Histograma de frecuencia de caracteres ordenado"
   ]
  },
  {
   "cell_type": "markdown",
   "metadata": {},
   "source": [
    "Tiempo Estimado\n",
    "\n",
    "15-20 minutos\n",
    "\n",
    "Nivel de dificultad\n",
    "\n",
    "Medio\n",
    "\n",
    "Prerrequisitos\n",
    "\n",
    "05_9.15.1\n",
    "Objetivos\n",
    "\n",
    "    Mejorar las habilidades del estudiante para operar con archivos en modo (lectura/escritura).\n",
    "    Emplear lambdas para cambiar el ordenamiento.\n",
    "\n",
    "Escenario\n",
    "\n",
    "El código anterior necesita ser mejorado. Está bien, pero tiene que ser mejor.\n",
    "\n",
    "Tu tarea es hacer algunas enmiendas, que generen los siguientes resultados:\n",
    "\n",
    "    El histograma de salida se ordenará en función de la frecuencia de los caracteres (el contador más grande debe presentarse primero).\n",
    "    El histograma debe enviarse a un archivo con el mismo nombre que el de entrada, pero con la extensión '.hist' (debe concatenarse con el nombre original).\n",
    "\n",
    "Suponiendo que el archivo de prueba contiene solo una línea con:\n",
    "cBabAa\n",
    "\n",
    "El resultado esperado debería verse de la siguiente manera:\n",
    "\n",
    "a -> 3\n",
    "\n",
    "b -> 2\n",
    "\n",
    "c -> 1\n",
    "\n",
    "Tip:\n",
    "\n",
    "Emplea una lambda para cambiar el ordenamiento."
   ]
  },
  {
   "cell_type": "code",
   "execution_count": 5,
   "metadata": {},
   "outputs": [],
   "source": [
    "def histograma(archivo):\n",
    "    dic = {}\n",
    "    try:\n",
    "        handler = open(archivo, mode = 'r')\n",
    "        contenido = handler.readline().lower()\n",
    "        for letra in contenido:\n",
    "            dic[letra] =  contenido.count(letra)\n",
    "        \n",
    "        for k,v in sorted(dic.items()):\n",
    "            print(k,'->',v)\n",
    "        \n",
    "    except FileNotFoundError:\n",
    "        print('Archivo no encontrado:', archivo)\n",
    "        exit()"
   ]
  },
  {
   "cell_type": "code",
   "execution_count": 6,
   "metadata": {},
   "outputs": [
    {
     "name": "stdout",
     "output_type": "stream",
     "text": [
      "Introduce el nombre del archivo: 6.1.9.16.txt\n",
      "a -> 3\n",
      "b -> 2\n",
      "c -> 1\n"
     ]
    }
   ],
   "source": [
    "archivo = input('Introduce el nombre del archivo: ')\n",
    "histograma(archivo) #Nombre del archivo = 6.1.9.16.txt"
   ]
  }
 ],
 "metadata": {
  "kernelspec": {
   "display_name": "Python 3",
   "language": "python",
   "name": "python3"
  },
  "language_info": {
   "codemirror_mode": {
    "name": "ipython",
    "version": 3
   },
   "file_extension": ".py",
   "mimetype": "text/x-python",
   "name": "python",
   "nbconvert_exporter": "python",
   "pygments_lexer": "ipython3",
   "version": "3.8.3"
  }
 },
 "nbformat": 4,
 "nbformat_minor": 4
}
