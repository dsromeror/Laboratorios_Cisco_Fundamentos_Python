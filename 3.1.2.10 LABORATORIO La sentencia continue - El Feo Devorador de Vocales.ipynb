{
 "cells": [
  {
   "cell_type": "markdown",
   "metadata": {},
   "source": [
    "3.1.2.10 LABORATORIO: La sentencia continue - El Feo Devorador de Vocales"
   ]
  },
  {
   "cell_type": "markdown",
   "metadata": {},
   "source": [
    "Tiempo estimado\n",
    "\n",
    "10-15 minutos\n",
    "Nivel de dificultad\n",
    "\n",
    "Fácil\n",
    "Objetivos\n",
    "\n",
    "Familiarizar al estudiante con:\n",
    "\n",
    "    Utilizar la instrucción continue en los ciclos.\n",
    "    Reflejar situaciones de la vida real en código de computadora.\n",
    "\n",
    "Escenario\n",
    "\n",
    "La sentencia continue se usa para omitir el bloque actual y avanzar a la siguiente iteración, sin ejecutar las declaraciones dentro del ciclo.\n",
    "\n",
    "Se puede usar tanto con while y ciclos for.\n",
    "\n",
    "Tu tarea aquí es muy especial: ¡Debes diseñar un devorador de vocales! Escribe un programa que use:\n",
    "\n",
    "    Un ciclo for.\n",
    "    El concepto de ejecución condicional (if-elif-else).\n",
    "    La declaración continue.\n",
    "\n",
    "Tu programa debe:\n",
    "\n",
    "    Pedir al usuario que ingrese una palabra.\n",
    "    Utiliza userWord = userWord.upper() para convertir la palabra ingresada por el usuario a mayúsculas; hablaremos sobre los llamados métodos de cadena y el upper() muy pronto, no te preocupes.\n",
    "    Utiliza la ejecución condicional y la instrucción continue para \"comer\" las siguientes vocales A , E , I , O , U de la palabra ingresada.\n",
    "    Imprime las letras no consumidas en la pantalla, cada una de ellas en una línea separada.\n",
    "\n",
    "Prueba tu programa con los datos que le proporcionamos.\n",
    "\n",
    "Datos de prueba\n",
    "\n",
    "Entrada de muestra: Gregory\n",
    "\n",
    "Salida esperada:\n",
    "G\n",
    "R\n",
    "G\n",
    "R\n",
    "Y\n",
    "\n",
    "Entrada de muestra: abstemious\n",
    "\n",
    "Salida esperada:\n",
    "B\n",
    "S\n",
    "T\n",
    "M\n",
    "S\n",
    "\n",
    "Entrada de muestra: IOUEA\n",
    "\n",
    "Salida esperada:\n",
    " "
   ]
  },
  {
   "cell_type": "code",
   "execution_count": 14,
   "metadata": {},
   "outputs": [],
   "source": [
    "# Indicar al usuario que ingrese una palabra\n",
    "# y asignarlo a la variable userWord.\n",
    "def devorador(entrada):\n",
    "    entrada = entrada.upper()\n",
    "    \n",
    "    for letra in entrada:\n",
    "        if letra == \"A\" or letra==\"E\" or letra ==\"I\" or letra ==\"O\" or letra ==\"U\":\n",
    "            continue\n",
    "        else:\n",
    "            print(letra, end=' ')"
   ]
  },
  {
   "cell_type": "code",
   "execution_count": 15,
   "metadata": {},
   "outputs": [
    {
     "name": "stdout",
     "output_type": "stream",
     "text": [
      "Ingrese la palabra: Gregory\n",
      "G R G R Y "
     ]
    }
   ],
   "source": [
    "entrada = input(\"Ingrese la palabra: \")\n",
    "devorador(entrada)"
   ]
  },
  {
   "cell_type": "code",
   "execution_count": 16,
   "metadata": {},
   "outputs": [
    {
     "name": "stdout",
     "output_type": "stream",
     "text": [
      "Ingrese la palabra: abstemious\n",
      "B S T M S "
     ]
    }
   ],
   "source": [
    "entrada = input(\"Ingrese la palabra: \")\n",
    "devorador(entrada)"
   ]
  },
  {
   "cell_type": "code",
   "execution_count": 17,
   "metadata": {},
   "outputs": [
    {
     "name": "stdout",
     "output_type": "stream",
     "text": [
      "Ingrese la palabra: IOUEA\n"
     ]
    }
   ],
   "source": [
    "entrada = input(\"Ingrese la palabra: \")\n",
    "devorador(entrada)"
   ]
  },
  {
   "cell_type": "code",
   "execution_count": null,
   "metadata": {},
   "outputs": [],
   "source": []
  }
 ],
 "metadata": {
  "kernelspec": {
   "display_name": "Python 3",
   "language": "python",
   "name": "python3"
  },
  "language_info": {
   "codemirror_mode": {
    "name": "ipython",
    "version": 3
   },
   "file_extension": ".py",
   "mimetype": "text/x-python",
   "name": "python",
   "nbconvert_exporter": "python",
   "pygments_lexer": "ipython3",
   "version": "3.8.3"
  }
 },
 "nbformat": 4,
 "nbformat_minor": 4
}
