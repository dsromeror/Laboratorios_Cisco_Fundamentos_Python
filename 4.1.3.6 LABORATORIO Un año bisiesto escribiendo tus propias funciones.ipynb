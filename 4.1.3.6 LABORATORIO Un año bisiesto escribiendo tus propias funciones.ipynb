{
 "cells": [
  {
   "cell_type": "markdown",
   "metadata": {},
   "source": [
    " 4.1.3.6 LABORATORIO: Un año bisiesto: escribiendo tus propias funciones"
   ]
  },
  {
   "cell_type": "markdown",
   "metadata": {},
   "source": [
    "Tiempo estimado\n",
    "\n",
    "10-15 minutos\n",
    "\n",
    "Nivel de dificultad\n",
    "\n",
    "Fácil\n",
    "\n",
    "Objetivos\n",
    "\n",
    "Familiarizar al estudiante con:\n",
    "\n",
    "    Proyectar y escribir funciones con parámetros.\n",
    "    Utilizar la sentencia return.\n",
    "    Probar las funciones.\n",
    "\n",
    "Escenario\n",
    "\n",
    "Tu tarea es escribir y probar una función que toma un argumento (un año) y devuelve True si el año es un año bisiesto, o False sí no lo es.\n",
    "\n",
    "Parte del esqueleto de la función ya está en el editor.\n",
    "\n",
    "Nota: también hemos preparado un breve código de prueba, que puedes utilizar para probar tu función.\n",
    "\n",
    "El código utiliza dos listas: una con los datos de prueba y la otra con los resultados esperados. El código te dirá si alguno de tus resultados no es válido."
   ]
  },
  {
   "cell_type": "code",
   "execution_count": 2,
   "metadata": {},
   "outputs": [
    {
     "name": "stdout",
     "output_type": "stream",
     "text": [
      "1900 ->OK\n",
      "2000 ->OK\n",
      "2016 ->OK\n",
      "1987 ->OK\n"
     ]
    }
   ],
   "source": [
    "def isYearLeap(year):\n",
    "    if (year % 4) != 0:\n",
    "        return False\n",
    "    elif (year % 100) != 0:\n",
    "        return True\n",
    "    elif (year % 400) != 0:\n",
    "        return False\n",
    "    else:\n",
    "        return True\n",
    "\n",
    "    print(\"\")\n",
    "\n",
    "testData = [1900, 2000, 2016, 1987]\n",
    "testResults = [False, True, True, False]\n",
    "for i in range(len(testData)):\n",
    "    yr = testData[i]\n",
    "    print(yr,\"->\",end=\"\")\n",
    "    result = isYearLeap(yr)\n",
    "    if result == testResults[i]:\n",
    "        print(\"OK\")\n",
    "    else:\n",
    "        print(\"Error\")"
   ]
  }
 ],
 "metadata": {
  "kernelspec": {
   "display_name": "Python 3",
   "language": "python",
   "name": "python3"
  },
  "language_info": {
   "codemirror_mode": {
    "name": "ipython",
    "version": 3
   },
   "file_extension": ".py",
   "mimetype": "text/x-python",
   "name": "python",
   "nbconvert_exporter": "python",
   "pygments_lexer": "ipython3",
   "version": "3.8.3"
  }
 },
 "nbformat": 4,
 "nbformat_minor": 4
}
