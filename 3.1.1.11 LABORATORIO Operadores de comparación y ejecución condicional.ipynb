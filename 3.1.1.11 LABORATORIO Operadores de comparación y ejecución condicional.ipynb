{
 "cells": [
  {
   "cell_type": "markdown",
   "metadata": {},
   "source": [
    " 3.1.1.11 LABORATORIO: Operadores de comparación y ejecución condicional"
   ]
  },
  {
   "cell_type": "markdown",
   "metadata": {},
   "source": [
    "Tiempo estimado\n",
    "\n",
    "5-10 minutos\n",
    "Nivel de dificultad\n",
    "\n",
    "Fácil\n",
    "Objetivos\n",
    "\n",
    "    Familiarizarse con la función input().\n",
    "    Familiarizarse con los operadores de comparación en Python.\n",
    "    Familiarizarse con el concepto de ejecución condicional.\n",
    "\n",
    "Escenario\n",
    "\n",
    "Espatifilo, más comúnmente conocida como la planta de Cuna de Moisés o flor de la paz, es una de las plantas para interiores más populares que filtra las toxinas dañinas del aire. Algunas de las toxinas que neutraliza incluyen benceno, formaldehído y amoníaco.\n",
    "\n",
    "Imagina que tu programa de computadora ama estas plantas. Cada vez que recibe una entrada en forma de la palabra Espatifilo, grita involuntariamente a la consola la siguiente cadena:  \"¡Espatifilo es la mejor planta de todas!\" \n",
    "\n",
    "Escribe un programa que utilice el concepto de ejecución condicional, tome una cadena como entrada y que:\n",
    "\n",
    "- Imprima el enunciado \"Si, ¡El Espatifilo es la mejor planta de todos los tiempos!\" en la pantalla si la cadena ingresada es \"Espatifilo\".\n",
    "- Imprima \"No, ¡quiero un gran Espatifilo!\" si la cadena ingresada es \"espatifilo\".\n",
    "- Imprima  \"¡Espatifilo! ¡No [entrada]!\" de lo contrario. Nota: [entrada] es la cadena que se toma como entrada.\n",
    "\n",
    "\n",
    "Prueba tu código con los datos que te proporcionamos. ¡Y hazte de un Espatifilo también!\n",
    "\n",
    "Datos de prueba\n",
    "\n",
    "Entrada de muestra: espatifilo\n",
    "\n",
    "Resultado esperado: No, ¡quiero un gran Espatifilo!\n",
    "\n",
    "Entrada de ejemplo: pelargonio\n",
    "\n",
    "Resultado esperado: !Espatifilo! ¡No pelargonio!\n",
    "\n",
    "Entrada de muestra: Espatifilo\n",
    "\n",
    "Resultado esperado: Si, ¡El Espatifilo es la mejor planta de todos los tiempos!"
   ]
  },
  {
   "cell_type": "code",
   "execution_count": 1,
   "metadata": {},
   "outputs": [],
   "source": [
    "def planta(entrada):\n",
    "\n",
    "    if entrada == \"Espatifilo\":\n",
    "        print(\"Si, ¡El Espatifilo es la mejor planta de todos los tiempos!\")\n",
    "    elif entrada == \"espatifilo\":\n",
    "        print(\"No, ¡quiero un gran Espatifilo!\")\n",
    "    else:\n",
    "        print(\"¡Espatifilo! No\",entrada,\"!\")"
   ]
  },
  {
   "cell_type": "code",
   "execution_count": 2,
   "metadata": {},
   "outputs": [
    {
     "name": "stdout",
     "output_type": "stream",
     "text": [
      "Ingrese la palabraespatifilo\n",
      "No, ¡quiero un gran Espatifilo!\n"
     ]
    }
   ],
   "source": [
    "entrada = input(\"Ingrese la palabra\")\n",
    "\n",
    "planta(entrada)"
   ]
  },
  {
   "cell_type": "code",
   "execution_count": 3,
   "metadata": {},
   "outputs": [
    {
     "name": "stdout",
     "output_type": "stream",
     "text": [
      "Ingrese la palabrapelargonio\n",
      "¡Espatifilo! No pelargonio !\n"
     ]
    }
   ],
   "source": [
    "entrada = input(\"Ingrese la palabra\")\n",
    "\n",
    "planta(entrada)"
   ]
  },
  {
   "cell_type": "code",
   "execution_count": 4,
   "metadata": {},
   "outputs": [
    {
     "name": "stdout",
     "output_type": "stream",
     "text": [
      "Ingrese la palabraEspatifilo\n",
      "Si, ¡El Espatifilo es la mejor planta de todos los tiempos!\n"
     ]
    }
   ],
   "source": [
    "entrada = input(\"Ingrese la palabra\")\n",
    "\n",
    "planta(entrada)"
   ]
  },
  {
   "cell_type": "code",
   "execution_count": null,
   "metadata": {},
   "outputs": [],
   "source": []
  }
 ],
 "metadata": {
  "kernelspec": {
   "display_name": "Python 3",
   "language": "python",
   "name": "python3"
  },
  "language_info": {
   "codemirror_mode": {
    "name": "ipython",
    "version": 3
   },
   "file_extension": ".py",
   "mimetype": "text/x-python",
   "name": "python",
   "nbconvert_exporter": "python",
   "pygments_lexer": "ipython3",
   "version": "3.8.3"
  }
 },
 "nbformat": 4,
 "nbformat_minor": 4
}
